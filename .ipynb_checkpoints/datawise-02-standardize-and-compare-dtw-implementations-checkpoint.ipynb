{
 "cells": [
  {
   "cell_type": "markdown",
   "metadata": {},
   "source": [
    "## Forecasting when faced with thousands of time series\n",
    "### Standardize in preparation for calculating distance metrics\n",
    "\n"
   ]
  },
  {
   "cell_type": "code",
   "execution_count": 2,
   "metadata": {},
   "outputs": [],
   "source": [
    "from time_series_simulations import time_series_simulations"
   ]
  },
  {
   "cell_type": "code",
   "execution_count": 16,
   "metadata": {},
   "outputs": [],
   "source": [
    "all_series = time_series_simulations.simulate_ts_population()"
   ]
  },
  {
   "cell_type": "code",
   "execution_count": 17,
   "metadata": {},
   "outputs": [
    {
     "data": {
      "text/html": [
       "<div>\n",
       "<style scoped>\n",
       "    .dataframe tbody tr th:only-of-type {\n",
       "        vertical-align: middle;\n",
       "    }\n",
       "\n",
       "    .dataframe tbody tr th {\n",
       "        vertical-align: top;\n",
       "    }\n",
       "\n",
       "    .dataframe thead th {\n",
       "        text-align: right;\n",
       "    }\n",
       "</style>\n",
       "<table border=\"1\" class=\"dataframe\">\n",
       "  <thead>\n",
       "    <tr style=\"text-align: right;\">\n",
       "      <th></th>\n",
       "      <th>id</th>\n",
       "      <th>timepoint</th>\n",
       "      <th>amount</th>\n",
       "      <th>process</th>\n",
       "    </tr>\n",
       "  </thead>\n",
       "  <tbody>\n",
       "    <tr>\n",
       "      <th>0</th>\n",
       "      <td>0</td>\n",
       "      <td>0</td>\n",
       "      <td>-0.650442</td>\n",
       "      <td>ar1</td>\n",
       "    </tr>\n",
       "    <tr>\n",
       "      <th>1</th>\n",
       "      <td>0</td>\n",
       "      <td>1</td>\n",
       "      <td>0.836030</td>\n",
       "      <td>ar1</td>\n",
       "    </tr>\n",
       "    <tr>\n",
       "      <th>2</th>\n",
       "      <td>0</td>\n",
       "      <td>2</td>\n",
       "      <td>1.093406</td>\n",
       "      <td>ar1</td>\n",
       "    </tr>\n",
       "    <tr>\n",
       "      <th>3</th>\n",
       "      <td>0</td>\n",
       "      <td>3</td>\n",
       "      <td>-1.770107</td>\n",
       "      <td>ar1</td>\n",
       "    </tr>\n",
       "    <tr>\n",
       "      <th>4</th>\n",
       "      <td>0</td>\n",
       "      <td>4</td>\n",
       "      <td>0.898869</td>\n",
       "      <td>ar1</td>\n",
       "    </tr>\n",
       "  </tbody>\n",
       "</table>\n",
       "</div>"
      ],
      "text/plain": [
       "   id  timepoint    amount process\n",
       "0   0          0 -0.650442     ar1\n",
       "1   0          1  0.836030     ar1\n",
       "2   0          2  1.093406     ar1\n",
       "3   0          3 -1.770107     ar1\n",
       "4   0          4  0.898869     ar1"
      ]
     },
     "execution_count": 17,
     "metadata": {},
     "output_type": "execute_result"
    }
   ],
   "source": [
    "all_series.head()"
   ]
  },
  {
   "cell_type": "code",
   "execution_count": 18,
   "metadata": {},
   "outputs": [
    {
     "data": {
      "text/plain": [
       "arima112    11017\n",
       "ma1         10713\n",
       "arma21      10649\n",
       "arima111    10613\n",
       "arima011    10366\n",
       "ar2         10219\n",
       "ma2         10203\n",
       "arma12      10175\n",
       "ar1         10119\n",
       "arma22       9980\n",
       "arima110     9869\n",
       "arma11       9792\n",
       "arima211     9592\n",
       "arima222     9461\n",
       "Name: process, dtype: int64"
      ]
     },
     "execution_count": 18,
     "metadata": {},
     "output_type": "execute_result"
    }
   ],
   "source": [
    "all_series['process'].value_counts()"
   ]
  },
  {
   "cell_type": "code",
   "execution_count": 19,
   "metadata": {},
   "outputs": [],
   "source": [
    "# create unique ids\n",
    "all_series['id'] = all_series['id'].map(str) + all_series['process'].map(str)"
   ]
  },
  {
   "cell_type": "code",
   "execution_count": 20,
   "metadata": {},
   "outputs": [
    {
     "data": {
      "text/html": [
       "<div>\n",
       "<style scoped>\n",
       "    .dataframe tbody tr th:only-of-type {\n",
       "        vertical-align: middle;\n",
       "    }\n",
       "\n",
       "    .dataframe tbody tr th {\n",
       "        vertical-align: top;\n",
       "    }\n",
       "\n",
       "    .dataframe thead th {\n",
       "        text-align: right;\n",
       "    }\n",
       "</style>\n",
       "<table border=\"1\" class=\"dataframe\">\n",
       "  <thead>\n",
       "    <tr style=\"text-align: right;\">\n",
       "      <th></th>\n",
       "      <th>id</th>\n",
       "      <th>timepoint</th>\n",
       "      <th>amount</th>\n",
       "      <th>process</th>\n",
       "    </tr>\n",
       "  </thead>\n",
       "  <tbody>\n",
       "    <tr>\n",
       "      <th>0</th>\n",
       "      <td>0ar1</td>\n",
       "      <td>0</td>\n",
       "      <td>-0.650442</td>\n",
       "      <td>ar1</td>\n",
       "    </tr>\n",
       "    <tr>\n",
       "      <th>1</th>\n",
       "      <td>0ar1</td>\n",
       "      <td>1</td>\n",
       "      <td>0.836030</td>\n",
       "      <td>ar1</td>\n",
       "    </tr>\n",
       "    <tr>\n",
       "      <th>2</th>\n",
       "      <td>0ar1</td>\n",
       "      <td>2</td>\n",
       "      <td>1.093406</td>\n",
       "      <td>ar1</td>\n",
       "    </tr>\n",
       "    <tr>\n",
       "      <th>3</th>\n",
       "      <td>0ar1</td>\n",
       "      <td>3</td>\n",
       "      <td>-1.770107</td>\n",
       "      <td>ar1</td>\n",
       "    </tr>\n",
       "    <tr>\n",
       "      <th>4</th>\n",
       "      <td>0ar1</td>\n",
       "      <td>4</td>\n",
       "      <td>0.898869</td>\n",
       "      <td>ar1</td>\n",
       "    </tr>\n",
       "  </tbody>\n",
       "</table>\n",
       "</div>"
      ],
      "text/plain": [
       "     id  timepoint    amount process\n",
       "0  0ar1          0 -0.650442     ar1\n",
       "1  0ar1          1  0.836030     ar1\n",
       "2  0ar1          2  1.093406     ar1\n",
       "3  0ar1          3 -1.770107     ar1\n",
       "4  0ar1          4  0.898869     ar1"
      ]
     },
     "execution_count": 20,
     "metadata": {},
     "output_type": "execute_result"
    }
   ],
   "source": [
    "all_series.head()"
   ]
  },
  {
   "cell_type": "markdown",
   "metadata": {},
   "source": [
    "## Normalize\n",
    "\n",
    "Min-max normalize across all timepoints across all series vs within each time series - what is the implication?\n",
    "\n",
    "Normalization will put the values between 0 and 1. I will also standardize the series, so that the mean is 0 and the standard deviation is 1. Standardization assumes that the data fit a Gaussian distribution. \n",
    "\n",
    "### With scipy stats and the zscore function"
   ]
  },
  {
   "cell_type": "code",
   "execution_count": 16,
   "metadata": {},
   "outputs": [],
   "source": [
    "from scipy import stats"
   ]
  },
  {
   "cell_type": "code",
   "execution_count": 17,
   "metadata": {},
   "outputs": [],
   "source": [
    "all_series['norm_amount'] = stats.zscore(all_series['amount'])"
   ]
  },
  {
   "cell_type": "code",
   "execution_count": 18,
   "metadata": {},
   "outputs": [
    {
     "data": {
      "text/html": [
       "<div>\n",
       "<style scoped>\n",
       "    .dataframe tbody tr th:only-of-type {\n",
       "        vertical-align: middle;\n",
       "    }\n",
       "\n",
       "    .dataframe tbody tr th {\n",
       "        vertical-align: top;\n",
       "    }\n",
       "\n",
       "    .dataframe thead th {\n",
       "        text-align: right;\n",
       "    }\n",
       "</style>\n",
       "<table border=\"1\" class=\"dataframe\">\n",
       "  <thead>\n",
       "    <tr style=\"text-align: right;\">\n",
       "      <th></th>\n",
       "      <th>id</th>\n",
       "      <th>timepoint</th>\n",
       "      <th>amount</th>\n",
       "      <th>process</th>\n",
       "      <th>norm_amount</th>\n",
       "    </tr>\n",
       "  </thead>\n",
       "  <tbody>\n",
       "    <tr>\n",
       "      <th>0</th>\n",
       "      <td>0ar1</td>\n",
       "      <td>0</td>\n",
       "      <td>-0.650442</td>\n",
       "      <td>ar1</td>\n",
       "      <td>-0.005549</td>\n",
       "    </tr>\n",
       "    <tr>\n",
       "      <th>1</th>\n",
       "      <td>0ar1</td>\n",
       "      <td>1</td>\n",
       "      <td>0.431634</td>\n",
       "      <td>ar1</td>\n",
       "      <td>-0.005549</td>\n",
       "    </tr>\n",
       "    <tr>\n",
       "      <th>2</th>\n",
       "      <td>0ar1</td>\n",
       "      <td>2</td>\n",
       "      <td>1.352865</td>\n",
       "      <td>ar1</td>\n",
       "      <td>-0.005549</td>\n",
       "    </tr>\n",
       "    <tr>\n",
       "      <th>3</th>\n",
       "      <td>0ar1</td>\n",
       "      <td>3</td>\n",
       "      <td>-0.923288</td>\n",
       "      <td>ar1</td>\n",
       "      <td>-0.005549</td>\n",
       "    </tr>\n",
       "    <tr>\n",
       "      <th>4</th>\n",
       "      <td>0ar1</td>\n",
       "      <td>4</td>\n",
       "      <td>0.343472</td>\n",
       "      <td>ar1</td>\n",
       "      <td>-0.005549</td>\n",
       "    </tr>\n",
       "  </tbody>\n",
       "</table>\n",
       "</div>"
      ],
      "text/plain": [
       "     id  timepoint    amount process  norm_amount\n",
       "0  0ar1          0 -0.650442     ar1    -0.005549\n",
       "1  0ar1          1  0.431634     ar1    -0.005549\n",
       "2  0ar1          2  1.352865     ar1    -0.005549\n",
       "3  0ar1          3 -0.923288     ar1    -0.005549\n",
       "4  0ar1          4  0.343472     ar1    -0.005549"
      ]
     },
     "execution_count": 18,
     "metadata": {},
     "output_type": "execute_result"
    }
   ],
   "source": [
    "all_series.head()"
   ]
  },
  {
   "cell_type": "markdown",
   "metadata": {},
   "source": [
    "This doesn't seem to be working, all the values are the same. \n",
    "\n",
    "### Normalize by subtracting the mean and dividing by the range "
   ]
  },
  {
   "cell_type": "code",
   "execution_count": 19,
   "metadata": {},
   "outputs": [],
   "source": [
    "min_amount = all_series['amount'].min()\n",
    "max_amount = all_series['amount'].max()"
   ]
  },
  {
   "cell_type": "code",
   "execution_count": 20,
   "metadata": {},
   "outputs": [
    {
     "name": "stdout",
     "output_type": "stream",
     "text": [
      "-9.67691212702153 5.817594386738546e+32\n"
     ]
    }
   ],
   "source": [
    "print(min_amount, max_amount)"
   ]
  },
  {
   "cell_type": "code",
   "execution_count": 21,
   "metadata": {},
   "outputs": [],
   "source": [
    "all_series['norm_amount'] = (all_series['amount'] - min_amount) / (max_amount - min_amount)"
   ]
  },
  {
   "cell_type": "code",
   "execution_count": 22,
   "metadata": {},
   "outputs": [
    {
     "data": {
      "text/html": [
       "<div>\n",
       "<style scoped>\n",
       "    .dataframe tbody tr th:only-of-type {\n",
       "        vertical-align: middle;\n",
       "    }\n",
       "\n",
       "    .dataframe tbody tr th {\n",
       "        vertical-align: top;\n",
       "    }\n",
       "\n",
       "    .dataframe thead th {\n",
       "        text-align: right;\n",
       "    }\n",
       "</style>\n",
       "<table border=\"1\" class=\"dataframe\">\n",
       "  <thead>\n",
       "    <tr style=\"text-align: right;\">\n",
       "      <th></th>\n",
       "      <th>id</th>\n",
       "      <th>timepoint</th>\n",
       "      <th>amount</th>\n",
       "      <th>process</th>\n",
       "      <th>norm_amount</th>\n",
       "    </tr>\n",
       "  </thead>\n",
       "  <tbody>\n",
       "    <tr>\n",
       "      <th>0</th>\n",
       "      <td>0ar1</td>\n",
       "      <td>0</td>\n",
       "      <td>-0.650442</td>\n",
       "      <td>ar1</td>\n",
       "      <td>1.551581e-32</td>\n",
       "    </tr>\n",
       "    <tr>\n",
       "      <th>1</th>\n",
       "      <td>0ar1</td>\n",
       "      <td>1</td>\n",
       "      <td>0.431634</td>\n",
       "      <td>ar1</td>\n",
       "      <td>1.737582e-32</td>\n",
       "    </tr>\n",
       "    <tr>\n",
       "      <th>2</th>\n",
       "      <td>0ar1</td>\n",
       "      <td>2</td>\n",
       "      <td>1.352865</td>\n",
       "      <td>ar1</td>\n",
       "      <td>1.895934e-32</td>\n",
       "    </tr>\n",
       "    <tr>\n",
       "      <th>3</th>\n",
       "      <td>0ar1</td>\n",
       "      <td>3</td>\n",
       "      <td>-0.923288</td>\n",
       "      <td>ar1</td>\n",
       "      <td>1.504681e-32</td>\n",
       "    </tr>\n",
       "    <tr>\n",
       "      <th>4</th>\n",
       "      <td>0ar1</td>\n",
       "      <td>4</td>\n",
       "      <td>0.343472</td>\n",
       "      <td>ar1</td>\n",
       "      <td>1.722427e-32</td>\n",
       "    </tr>\n",
       "  </tbody>\n",
       "</table>\n",
       "</div>"
      ],
      "text/plain": [
       "     id  timepoint    amount process   norm_amount\n",
       "0  0ar1          0 -0.650442     ar1  1.551581e-32\n",
       "1  0ar1          1  0.431634     ar1  1.737582e-32\n",
       "2  0ar1          2  1.352865     ar1  1.895934e-32\n",
       "3  0ar1          3 -0.923288     ar1  1.504681e-32\n",
       "4  0ar1          4  0.343472     ar1  1.722427e-32"
      ]
     },
     "execution_count": 22,
     "metadata": {},
     "output_type": "execute_result"
    }
   ],
   "source": [
    "all_series.head()"
   ]
  },
  {
   "cell_type": "code",
   "execution_count": 23,
   "metadata": {},
   "outputs": [
    {
     "name": "stdout",
     "output_type": "stream",
     "text": [
      "[-9.67691213] [5.81759439e+32]\n"
     ]
    },
    {
     "data": {
      "text/html": [
       "<div>\n",
       "<style scoped>\n",
       "    .dataframe tbody tr th:only-of-type {\n",
       "        vertical-align: middle;\n",
       "    }\n",
       "\n",
       "    .dataframe tbody tr th {\n",
       "        vertical-align: top;\n",
       "    }\n",
       "\n",
       "    .dataframe thead th {\n",
       "        text-align: right;\n",
       "    }\n",
       "</style>\n",
       "<table border=\"1\" class=\"dataframe\">\n",
       "  <thead>\n",
       "    <tr style=\"text-align: right;\">\n",
       "      <th></th>\n",
       "      <th>id</th>\n",
       "      <th>timepoint</th>\n",
       "      <th>amount</th>\n",
       "      <th>process</th>\n",
       "      <th>norm_amount</th>\n",
       "      <th>scaled_amount</th>\n",
       "    </tr>\n",
       "  </thead>\n",
       "  <tbody>\n",
       "    <tr>\n",
       "      <th>0</th>\n",
       "      <td>0ar1</td>\n",
       "      <td>0</td>\n",
       "      <td>-0.650442</td>\n",
       "      <td>ar1</td>\n",
       "      <td>1.551581e-32</td>\n",
       "      <td>1.551581e-32</td>\n",
       "    </tr>\n",
       "    <tr>\n",
       "      <th>1</th>\n",
       "      <td>0ar1</td>\n",
       "      <td>1</td>\n",
       "      <td>0.431634</td>\n",
       "      <td>ar1</td>\n",
       "      <td>1.737582e-32</td>\n",
       "      <td>1.737582e-32</td>\n",
       "    </tr>\n",
       "    <tr>\n",
       "      <th>2</th>\n",
       "      <td>0ar1</td>\n",
       "      <td>2</td>\n",
       "      <td>1.352865</td>\n",
       "      <td>ar1</td>\n",
       "      <td>1.895934e-32</td>\n",
       "      <td>1.895934e-32</td>\n",
       "    </tr>\n",
       "    <tr>\n",
       "      <th>3</th>\n",
       "      <td>0ar1</td>\n",
       "      <td>3</td>\n",
       "      <td>-0.923288</td>\n",
       "      <td>ar1</td>\n",
       "      <td>1.504681e-32</td>\n",
       "      <td>1.504681e-32</td>\n",
       "    </tr>\n",
       "    <tr>\n",
       "      <th>4</th>\n",
       "      <td>0ar1</td>\n",
       "      <td>4</td>\n",
       "      <td>0.343472</td>\n",
       "      <td>ar1</td>\n",
       "      <td>1.722427e-32</td>\n",
       "      <td>1.722427e-32</td>\n",
       "    </tr>\n",
       "  </tbody>\n",
       "</table>\n",
       "</div>"
      ],
      "text/plain": [
       "     id  timepoint    amount process   norm_amount  scaled_amount\n",
       "0  0ar1          0 -0.650442     ar1  1.551581e-32   1.551581e-32\n",
       "1  0ar1          1  0.431634     ar1  1.737582e-32   1.737582e-32\n",
       "2  0ar1          2  1.352865     ar1  1.895934e-32   1.895934e-32\n",
       "3  0ar1          3 -0.923288     ar1  1.504681e-32   1.504681e-32\n",
       "4  0ar1          4  0.343472     ar1  1.722427e-32   1.722427e-32"
      ]
     },
     "execution_count": 23,
     "metadata": {},
     "output_type": "execute_result"
    }
   ],
   "source": [
    "from sklearn.preprocessing import MinMaxScaler\n",
    "\n",
    "amounts = all_series['amount'].values.reshape(len(all_series['amount']), 1)\n",
    "\n",
    "scaler = MinMaxScaler(feature_range=(0,1))\n",
    "scaler = scaler.fit(amounts)\n",
    "print(scaler.data_min_, scaler.data_max_)\n",
    "\n",
    "all_series['scaled_amount'] = scaler.transform(amounts)\n",
    "all_series.head()"
   ]
  },
  {
   "cell_type": "markdown",
   "metadata": {},
   "source": [
    "### Standardize by subtracting the mean and dividing by the standard deviation "
   ]
  },
  {
   "cell_type": "code",
   "execution_count": 31,
   "metadata": {},
   "outputs": [
    {
     "data": {
      "text/plain": [
       "(array([0.0000e+00, 1.2000e+01, 7.0000e+00, 5.4000e+01, 9.7000e+01,\n",
       "        2.7100e+02, 7.8600e+02, 2.9660e+03, 9.2550e+03, 1.6530e+04,\n",
       "        1.9308e+04, 1.4070e+04, 8.0880e+03, 4.5970e+03, 3.0120e+03,\n",
       "        2.2340e+03, 1.8220e+03, 1.7530e+03, 1.7780e+03, 1.5390e+03]),\n",
       " array([-10.,  -9.,  -8.,  -7.,  -6.,  -5.,  -4.,  -3.,  -2.,  -1.,   0.,\n",
       "          1.,   2.,   3.,   4.,   5.,   6.,   7.,   8.,   9.,  10.]),\n",
       " <a list of 20 Patch objects>)"
      ]
     },
     "execution_count": 31,
     "metadata": {},
     "output_type": "execute_result"
    },
    {
     "data": {
      "image/png": "[encoded data removed]",
      "text/plain": [
       "<Figure size 432x288 with 1 Axes>"
      ]
     },
     "metadata": {
      "needs_background": "light"
     },
     "output_type": "display_data"
    }
   ],
   "source": [
    "plt.hist(all_series['amount'], range = (-10, 10), bins = 20)"
   ]
  },
  {
   "cell_type": "code",
   "execution_count": 33,
   "metadata": {},
   "outputs": [
    {
     "data": {
      "text/plain": [
       "(array([  282., 49004., 32927.,  8544.,  6891.,  6373.,  5043.,  3697.,\n",
       "         2629.,  2022.,  1563.,  1260.,   949.,   877.,   793.,   763.,\n",
       "          643.,   544.,   503.,   459.]),\n",
       " array([-10. ,  -4.5,   1. ,   6.5,  12. ,  17.5,  23. ,  28.5,  34. ,\n",
       "         39.5,  45. ,  50.5,  56. ,  61.5,  67. ,  72.5,  78. ,  83.5,\n",
       "         89. ,  94.5, 100. ]),\n",
       " <a list of 20 Patch objects>)"
      ]
     },
     "execution_count": 33,
     "metadata": {},
     "output_type": "execute_result"
    },
    {
     "data": {
      "image/png": "[encoded data removed]",
      "text/plain": [
       "<Figure size 432x288 with 1 Axes>"
      ]
     },
     "metadata": {
      "needs_background": "light"
     },
     "output_type": "display_data"
    }
   ],
   "source": [
    "# there is a very long tail on the right, shown here up to 100, but it goes up to 1e+30 \n",
    "# this may be okay since in the real data the dealers are also operating on different scales \n",
    "# (some in the thousands, some in the tens of millions)\n",
    "plt.hist(all_series['amount'], range = (-10, 100), bins = 20)"
   ]
  },
  {
   "cell_type": "code",
   "execution_count": 20,
   "metadata": {},
   "outputs": [
    {
     "data": {
      "text/plain": [
       "40    -8.767980e+00\n",
       "40    -8.693405e+00\n",
       "41    -8.692874e+00\n",
       "41    -8.662847e+00\n",
       "39    -8.543168e+00\n",
       "41    -8.537284e+00\n",
       "40    -8.510103e+00\n",
       "39    -8.420092e+00\n",
       "41    -8.364694e+00\n",
       "40    -8.336500e+00\n",
       "39    -8.094447e+00\n",
       "41    -8.090648e+00\n",
       "40    -7.932164e+00\n",
       "39    -7.681937e+00\n",
       "41    -7.499885e+00\n",
       "40    -7.419800e+00\n",
       "40    -7.111000e+00\n",
       "39    -7.067218e+00\n",
       "41    -7.059241e+00\n",
       "39    -6.987049e+00\n",
       "166   -6.908817e+00\n",
       "39    -6.893630e+00\n",
       "39    -6.815802e+00\n",
       "39    -6.764464e+00\n",
       "43    -6.701017e+00\n",
       "40    -6.668185e+00\n",
       "40    -6.659425e+00\n",
       "41    -6.643633e+00\n",
       "40    -6.643476e+00\n",
       "38    -6.629514e+00\n",
       "           ...     \n",
       "146    3.932345e+27\n",
       "165    4.087355e+27\n",
       "167    4.832156e+27\n",
       "179    5.192289e+27\n",
       "166    6.076269e+27\n",
       "147    6.109758e+27\n",
       "168    7.048186e+27\n",
       "180    7.425452e+27\n",
       "167    9.032991e+27\n",
       "148    9.492846e+27\n",
       "169    1.028049e+28\n",
       "181    1.061908e+28\n",
       "168    1.342846e+28\n",
       "149    1.474921e+28\n",
       "170    1.499513e+28\n",
       "182    1.518627e+28\n",
       "169    1.996277e+28\n",
       "183    2.171776e+28\n",
       "150    2.291613e+28\n",
       "170    2.967669e+28\n",
       "184    3.105840e+28\n",
       "151    3.560522e+28\n",
       "152    5.532050e+28\n",
       "153    8.595251e+28\n",
       "154    1.335460e+29\n",
       "155    2.074930e+29\n",
       "156    3.223857e+29\n",
       "157    5.008968e+29\n",
       "158    7.782527e+29\n",
       "159    1.209186e+30\n",
       "Name: amount, Length: 155257, dtype: float64"
      ]
     },
     "execution_count": 20,
     "metadata": {},
     "output_type": "execute_result"
    }
   ],
   "source": [
    "all_series['amount'].sort_values()"
   ]
  },
  {
   "cell_type": "markdown",
   "metadata": {},
   "source": [
    "The range goes all the way up to 1e+30! There is a very, very long right tail to this distribution, across all simulated series. \n",
    "\n",
    "Plot each account seprarately to get a better idea of whether standardizing is reasonable. \n",
    "\n",
    "First, get a sense of how many of the time series are in those high ranges. "
   ]
  },
  {
   "cell_type": "code",
   "execution_count": 21,
   "metadata": {},
   "outputs": [],
   "source": [
    "within_groups = subset_series.groupby('id')['amount'].agg([np.mean, np.std])"
   ]
  },
  {
   "cell_type": "code",
   "execution_count": 22,
   "metadata": {},
   "outputs": [
    {
     "data": {
      "text/html": [
       "<div>\n",
       "<style scoped>\n",
       "    .dataframe tbody tr th:only-of-type {\n",
       "        vertical-align: middle;\n",
       "    }\n",
       "\n",
       "    .dataframe tbody tr th {\n",
       "        vertical-align: top;\n",
       "    }\n",
       "\n",
       "    .dataframe thead th {\n",
       "        text-align: right;\n",
       "    }\n",
       "</style>\n",
       "<table border=\"1\" class=\"dataframe\">\n",
       "  <thead>\n",
       "    <tr style=\"text-align: right;\">\n",
       "      <th></th>\n",
       "      <th>mean</th>\n",
       "      <th>std</th>\n",
       "    </tr>\n",
       "    <tr>\n",
       "      <th>id</th>\n",
       "      <th></th>\n",
       "      <th></th>\n",
       "    </tr>\n",
       "  </thead>\n",
       "  <tbody>\n",
       "    <tr>\n",
       "      <th>12ar2</th>\n",
       "      <td>2.443130e-01</td>\n",
       "      <td>1.161671e+00</td>\n",
       "    </tr>\n",
       "    <tr>\n",
       "      <th>12arma21</th>\n",
       "      <td>2.332279e+00</td>\n",
       "      <td>2.677064e+00</td>\n",
       "    </tr>\n",
       "    <tr>\n",
       "      <th>13ma2</th>\n",
       "      <td>1.382940e-01</td>\n",
       "      <td>1.113165e+00</td>\n",
       "    </tr>\n",
       "    <tr>\n",
       "      <th>18ma2</th>\n",
       "      <td>3.999342e-01</td>\n",
       "      <td>1.416903e+00</td>\n",
       "    </tr>\n",
       "    <tr>\n",
       "      <th>21ma2</th>\n",
       "      <td>2.380144e-01</td>\n",
       "      <td>1.463080e+00</td>\n",
       "    </tr>\n",
       "    <tr>\n",
       "      <th>23arima111</th>\n",
       "      <td>8.755860e+00</td>\n",
       "      <td>6.028137e+00</td>\n",
       "    </tr>\n",
       "    <tr>\n",
       "      <th>33ar1</th>\n",
       "      <td>1.621982e-01</td>\n",
       "      <td>1.134502e+00</td>\n",
       "    </tr>\n",
       "    <tr>\n",
       "      <th>34ar2</th>\n",
       "      <td>5.267528e+11</td>\n",
       "      <td>2.027813e+12</td>\n",
       "    </tr>\n",
       "    <tr>\n",
       "      <th>36ar2</th>\n",
       "      <td>9.478601e-01</td>\n",
       "      <td>1.642854e+00</td>\n",
       "    </tr>\n",
       "    <tr>\n",
       "      <th>40arima111</th>\n",
       "      <td>7.419919e+01</td>\n",
       "      <td>4.040545e+01</td>\n",
       "    </tr>\n",
       "    <tr>\n",
       "      <th>42arima111</th>\n",
       "      <td>2.362434e+02</td>\n",
       "      <td>1.470467e+02</td>\n",
       "    </tr>\n",
       "    <tr>\n",
       "      <th>52arima222</th>\n",
       "      <td>1.075085e+07</td>\n",
       "      <td>2.479236e+07</td>\n",
       "    </tr>\n",
       "    <tr>\n",
       "      <th>55arima011</th>\n",
       "      <td>9.401048e+00</td>\n",
       "      <td>7.073481e+00</td>\n",
       "    </tr>\n",
       "    <tr>\n",
       "      <th>55arima112</th>\n",
       "      <td>1.482456e+01</td>\n",
       "      <td>7.836763e+00</td>\n",
       "    </tr>\n",
       "    <tr>\n",
       "      <th>55arma12</th>\n",
       "      <td>2.875871e+00</td>\n",
       "      <td>4.641609e+00</td>\n",
       "    </tr>\n",
       "    <tr>\n",
       "      <th>64arma21</th>\n",
       "      <td>1.522619e+13</td>\n",
       "      <td>6.159697e+13</td>\n",
       "    </tr>\n",
       "    <tr>\n",
       "      <th>64arma22</th>\n",
       "      <td>8.629197e-01</td>\n",
       "      <td>2.212473e+00</td>\n",
       "    </tr>\n",
       "    <tr>\n",
       "      <th>68ma1</th>\n",
       "      <td>1.953465e-01</td>\n",
       "      <td>1.252523e+00</td>\n",
       "    </tr>\n",
       "    <tr>\n",
       "      <th>69ar2</th>\n",
       "      <td>6.913987e+00</td>\n",
       "      <td>3.989394e+00</td>\n",
       "    </tr>\n",
       "    <tr>\n",
       "      <th>69arma12</th>\n",
       "      <td>1.670153e+00</td>\n",
       "      <td>2.946614e+00</td>\n",
       "    </tr>\n",
       "    <tr>\n",
       "      <th>6arma12</th>\n",
       "      <td>1.037379e-01</td>\n",
       "      <td>1.419464e+00</td>\n",
       "    </tr>\n",
       "    <tr>\n",
       "      <th>70arma11</th>\n",
       "      <td>1.574295e-01</td>\n",
       "      <td>1.758341e+00</td>\n",
       "    </tr>\n",
       "    <tr>\n",
       "      <th>74arma22</th>\n",
       "      <td>6.244305e-01</td>\n",
       "      <td>1.935963e+00</td>\n",
       "    </tr>\n",
       "    <tr>\n",
       "      <th>82ma2</th>\n",
       "      <td>4.283800e-01</td>\n",
       "      <td>1.395757e+00</td>\n",
       "    </tr>\n",
       "    <tr>\n",
       "      <th>89ma1</th>\n",
       "      <td>2.387774e-01</td>\n",
       "      <td>1.345438e+00</td>\n",
       "    </tr>\n",
       "    <tr>\n",
       "      <th>90arima211</th>\n",
       "      <td>8.470069e+06</td>\n",
       "      <td>2.349400e+07</td>\n",
       "    </tr>\n",
       "    <tr>\n",
       "      <th>91ma2</th>\n",
       "      <td>2.504944e-01</td>\n",
       "      <td>1.280764e+00</td>\n",
       "    </tr>\n",
       "    <tr>\n",
       "      <th>92arma12</th>\n",
       "      <td>3.168355e-01</td>\n",
       "      <td>1.154642e+00</td>\n",
       "    </tr>\n",
       "    <tr>\n",
       "      <th>97ar2</th>\n",
       "      <td>1.394010e-01</td>\n",
       "      <td>1.138080e+00</td>\n",
       "    </tr>\n",
       "    <tr>\n",
       "      <th>9ar1</th>\n",
       "      <td>6.831621e-01</td>\n",
       "      <td>1.665946e+00</td>\n",
       "    </tr>\n",
       "  </tbody>\n",
       "</table>\n",
       "</div>"
      ],
      "text/plain": [
       "                    mean           std\n",
       "id                                    \n",
       "12ar2       2.443130e-01  1.161671e+00\n",
       "12arma21    2.332279e+00  2.677064e+00\n",
       "13ma2       1.382940e-01  1.113165e+00\n",
       "18ma2       3.999342e-01  1.416903e+00\n",
       "21ma2       2.380144e-01  1.463080e+00\n",
       "23arima111  8.755860e+00  6.028137e+00\n",
       "33ar1       1.621982e-01  1.134502e+00\n",
       "34ar2       5.267528e+11  2.027813e+12\n",
       "36ar2       9.478601e-01  1.642854e+00\n",
       "40arima111  7.419919e+01  4.040545e+01\n",
       "42arima111  2.362434e+02  1.470467e+02\n",
       "52arima222  1.075085e+07  2.479236e+07\n",
       "55arima011  9.401048e+00  7.073481e+00\n",
       "55arima112  1.482456e+01  7.836763e+00\n",
       "55arma12    2.875871e+00  4.641609e+00\n",
       "64arma21    1.522619e+13  6.159697e+13\n",
       "64arma22    8.629197e-01  2.212473e+00\n",
       "68ma1       1.953465e-01  1.252523e+00\n",
       "69ar2       6.913987e+00  3.989394e+00\n",
       "69arma12    1.670153e+00  2.946614e+00\n",
       "6arma12     1.037379e-01  1.419464e+00\n",
       "70arma11    1.574295e-01  1.758341e+00\n",
       "74arma22    6.244305e-01  1.935963e+00\n",
       "82ma2       4.283800e-01  1.395757e+00\n",
       "89ma1       2.387774e-01  1.345438e+00\n",
       "90arima211  8.470069e+06  2.349400e+07\n",
       "91ma2       2.504944e-01  1.280764e+00\n",
       "92arma12    3.168355e-01  1.154642e+00\n",
       "97ar2       1.394010e-01  1.138080e+00\n",
       "9ar1        6.831621e-01  1.665946e+00"
      ]
     },
     "execution_count": 22,
     "metadata": {},
     "output_type": "execute_result"
    }
   ],
   "source": [
    "within_groups"
   ]
  },
  {
   "cell_type": "markdown",
   "metadata": {},
   "source": [
    "In the random sample of 30 series, I see a few with values that are very very high. \n",
    "\n",
    "Get z-scores for the column amount within each value for \"id\". "
   ]
  },
  {
   "cell_type": "code",
   "execution_count": 64,
   "metadata": {},
   "outputs": [],
   "source": [
    "grouped = subset_series.groupby('id')"
   ]
  },
  {
   "cell_type": "code",
   "execution_count": 66,
   "metadata": {},
   "outputs": [
    {
     "data": {
      "text/plain": [
       "dict_keys(['12ar2', '12arma21', '13ma2', '18ma2', '21ma2', '23arima111', '33ar1', '34ar2', '36ar2', '40arima111', '42arima111', '52arima222', '55arima011', '55arima112', '55arma12', '64arma21', '64arma22', '68ma1', '69ar2', '69arma12', '6arma12', '70arma11', '74arma22', '82ma2', '89ma1', '90arima211', '91ma2', '92arma12', '97ar2', '9ar1'])"
      ]
     },
     "execution_count": 66,
     "metadata": {},
     "output_type": "execute_result"
    }
   ],
   "source": [
    "grouped.groups.keys()"
   ]
  },
  {
   "cell_type": "code",
   "execution_count": 70,
   "metadata": {},
   "outputs": [
    {
     "data": {
      "text/plain": [
       "array([[<matplotlib.axes._subplots.AxesSubplot object at 0x1c27d19a20>,\n",
       "        <matplotlib.axes._subplots.AxesSubplot object at 0x1c2663a780>,\n",
       "        <matplotlib.axes._subplots.AxesSubplot object at 0x1c273de3c8>,\n",
       "        <matplotlib.axes._subplots.AxesSubplot object at 0x1c2741d908>,\n",
       "        <matplotlib.axes._subplots.AxesSubplot object at 0x1c26a6b0f0>],\n",
       "       [<matplotlib.axes._subplots.AxesSubplot object at 0x1c193fda58>,\n",
       "        <matplotlib.axes._subplots.AxesSubplot object at 0x1c1a065a58>,\n",
       "        <matplotlib.axes._subplots.AxesSubplot object at 0x1c1a01d208>,\n",
       "        <matplotlib.axes._subplots.AxesSubplot object at 0x1c1a03a320>,\n",
       "        <matplotlib.axes._subplots.AxesSubplot object at 0x1c19f53390>],\n",
       "       [<matplotlib.axes._subplots.AxesSubplot object at 0x1c19f331d0>,\n",
       "        <matplotlib.axes._subplots.AxesSubplot object at 0x1c25101b00>,\n",
       "        <matplotlib.axes._subplots.AxesSubplot object at 0x1c250e60b8>,\n",
       "        <matplotlib.axes._subplots.AxesSubplot object at 0x1c25e47860>,\n",
       "        <matplotlib.axes._subplots.AxesSubplot object at 0x1c19f44f98>],\n",
       "       [<matplotlib.axes._subplots.AxesSubplot object at 0x1c25dfe2b0>,\n",
       "        <matplotlib.axes._subplots.AxesSubplot object at 0x1c25e854a8>,\n",
       "        <matplotlib.axes._subplots.AxesSubplot object at 0x1c25e74240>,\n",
       "        <matplotlib.axes._subplots.AxesSubplot object at 0x1c25ea1668>,\n",
       "        <matplotlib.axes._subplots.AxesSubplot object at 0x1c25dda3c8>],\n",
       "       [<matplotlib.axes._subplots.AxesSubplot object at 0x1c251c4ba8>,\n",
       "        <matplotlib.axes._subplots.AxesSubplot object at 0x1c251de780>,\n",
       "        <matplotlib.axes._subplots.AxesSubplot object at 0x1c27596128>,\n",
       "        <matplotlib.axes._subplots.AxesSubplot object at 0x1c25f33518>,\n",
       "        <matplotlib.axes._subplots.AxesSubplot object at 0x1c25f2a668>],\n",
       "       [<matplotlib.axes._subplots.AxesSubplot object at 0x1c250015c0>,\n",
       "        <matplotlib.axes._subplots.AxesSubplot object at 0x1c2518f390>,\n",
       "        <matplotlib.axes._subplots.AxesSubplot object at 0x1c251089b0>,\n",
       "        <matplotlib.axes._subplots.AxesSubplot object at 0x1c24fb2b70>,\n",
       "        <matplotlib.axes._subplots.AxesSubplot object at 0x1c19f5b4e0>]],\n",
       "      dtype=object)"
      ]
     },
     "execution_count": 70,
     "metadata": {},
     "output_type": "execute_result"
    },
    {
     "data": {
      "image/png": "[encoded data removed]",
      "text/plain": [
       "<Figure size 432x288 with 30 Axes>"
      ]
     },
     "metadata": {
      "needs_background": "light"
     },
     "output_type": "display_data"
    }
   ],
   "source": [
    "subset_series['amount'].hist(by = subset_series['id'])"
   ]
  },
  {
   "cell_type": "markdown",
   "metadata": {},
   "source": [
    "Many of them (especially the ones that are within reasonable ranges) seem normally distributed. I could check this with a check for normality, like the Shapiro test, but for now will move on with standardizing. \n",
    "\n",
    "### Standardize within each id"
   ]
  },
  {
   "cell_type": "code",
   "execution_count": 58,
   "metadata": {},
   "outputs": [],
   "source": [
    "series_groups = subset_series.groupby('id')['amount', 'timepoint']"
   ]
  },
  {
   "cell_type": "code",
   "execution_count": 59,
   "metadata": {},
   "outputs": [],
   "source": [
    "standardized_series = pd.DataFrame()\n",
    "\n",
    "for key, group in series_groups:\n",
    "    # get mean and standard deviation within each id\n",
    "    group_mean = np.mean(group['amount']) \n",
    "    group_sd = np.std(group['amount'])\n",
    "    \n",
    "    this_sample = pd.DataFrame()\n",
    "    \n",
    "    # populated standardized df\n",
    "    this_sample['id'] = group['id']\n",
    "    this_sample['timepoint'] = group['timepoint']\n",
    "    this_sample['amount'] = group['amount']\n",
    "    this_sample['stand_amount'] = (group['amount'] - group_mean) / group_sd\n",
    "    \n",
    "    standardized_series = pd.concat([standardized_series, this_sample])"
   ]
  },
  {
   "cell_type": "code",
   "execution_count": 60,
   "metadata": {},
   "outputs": [
    {
     "data": {
      "text/html": [
       "<div>\n",
       "<style scoped>\n",
       "    .dataframe tbody tr th:only-of-type {\n",
       "        vertical-align: middle;\n",
       "    }\n",
       "\n",
       "    .dataframe tbody tr th {\n",
       "        vertical-align: top;\n",
       "    }\n",
       "\n",
       "    .dataframe thead th {\n",
       "        text-align: right;\n",
       "    }\n",
       "</style>\n",
       "<table border=\"1\" class=\"dataframe\">\n",
       "  <thead>\n",
       "    <tr style=\"text-align: right;\">\n",
       "      <th></th>\n",
       "      <th>id</th>\n",
       "      <th>timepoint</th>\n",
       "      <th>amount</th>\n",
       "      <th>stand_amount</th>\n",
       "    </tr>\n",
       "  </thead>\n",
       "  <tbody>\n",
       "    <tr>\n",
       "      <th>0</th>\n",
       "      <td>12ar2</td>\n",
       "      <td>0</td>\n",
       "      <td>-0.650442</td>\n",
       "      <td>-0.780300</td>\n",
       "    </tr>\n",
       "    <tr>\n",
       "      <th>1</th>\n",
       "      <td>12ar2</td>\n",
       "      <td>1</td>\n",
       "      <td>0.796401</td>\n",
       "      <td>0.481466</td>\n",
       "    </tr>\n",
       "    <tr>\n",
       "      <th>2</th>\n",
       "      <td>12ar2</td>\n",
       "      <td>2</td>\n",
       "      <td>0.823032</td>\n",
       "      <td>0.504691</td>\n",
       "    </tr>\n",
       "    <tr>\n",
       "      <th>3</th>\n",
       "      <td>12ar2</td>\n",
       "      <td>3</td>\n",
       "      <td>-1.336524</td>\n",
       "      <td>-1.378620</td>\n",
       "    </tr>\n",
       "    <tr>\n",
       "      <th>4</th>\n",
       "      <td>12ar2</td>\n",
       "      <td>4</td>\n",
       "      <td>1.229389</td>\n",
       "      <td>0.859067</td>\n",
       "    </tr>\n",
       "  </tbody>\n",
       "</table>\n",
       "</div>"
      ],
      "text/plain": [
       "      id  timepoint    amount  stand_amount\n",
       "0  12ar2          0 -0.650442     -0.780300\n",
       "1  12ar2          1  0.796401      0.481466\n",
       "2  12ar2          2  0.823032      0.504691\n",
       "3  12ar2          3 -1.336524     -1.378620\n",
       "4  12ar2          4  1.229389      0.859067"
      ]
     },
     "execution_count": 60,
     "metadata": {},
     "output_type": "execute_result"
    }
   ],
   "source": [
    "standardized_series.head()"
   ]
  },
  {
   "cell_type": "code",
   "execution_count": 61,
   "metadata": {},
   "outputs": [
    {
     "data": {
      "text/plain": [
       "(array([  14.,  390., 1193.,  962.,  366.,   62.,    6.,    5.,    3.,\n",
       "           2.]),\n",
       " array([-3.1855026 , -2.13565191, -1.08580122, -0.03595053,  1.01390017,\n",
       "         2.06375086,  3.11360155,  4.16345224,  5.21330293,  6.26315362,\n",
       "         7.31300432]),\n",
       " <a list of 10 Patch objects>)"
      ]
     },
     "execution_count": 61,
     "metadata": {},
     "output_type": "execute_result"
    },
    {
     "data": {
      "image/png": "[encoded data removed]",
      "text/plain": [
       "<Figure size 432x288 with 1 Axes>"
      ]
     },
     "metadata": {
      "needs_background": "light"
     },
     "output_type": "display_data"
    }
   ],
   "source": [
    "# histogram of all 30 series' standardized amounts \n",
    "plt.hist(standardized_series['stand_amount'])"
   ]
  },
  {
   "cell_type": "code",
   "execution_count": 62,
   "metadata": {},
   "outputs": [
    {
     "name": "stdout",
     "output_type": "stream",
     "text": [
      "-3.1855026001764095 7.3130043150636865\n"
     ]
    }
   ],
   "source": [
    "print(standardized_series['stand_amount'].min(), standardized_series['stand_amount'].max())"
   ]
  },
  {
   "cell_type": "code",
   "execution_count": 63,
   "metadata": {},
   "outputs": [
    {
     "data": {
      "text/plain": [
       "74arma22      185\n",
       "55arima112    164\n",
       "40arima111    163\n",
       "52arima222    159\n",
       "42arima111    140\n",
       "64arma21      131\n",
       "89ma1         131\n",
       "64arma22      129\n",
       "34ar2         129\n",
       "91ma2         123\n",
       "13ma2         118\n",
       "69ar2         114\n",
       "68ma1         106\n",
       "21ma2         104\n",
       "97ar2          97\n",
       "36ar2          96\n",
       "90arima211     85\n",
       "33ar1          82\n",
       "12arma21       82\n",
       "9ar1           78\n",
       "82ma2          75\n",
       "18ma2          74\n",
       "69arma12       69\n",
       "55arima011     69\n",
       "92arma12       68\n",
       "55arma12       68\n",
       "6arma12        43\n",
       "70arma11       43\n",
       "12ar2          39\n",
       "23arima111     39\n",
       "Name: id, dtype: int64"
      ]
     },
     "execution_count": 63,
     "metadata": {},
     "output_type": "execute_result"
    }
   ],
   "source": [
    "standardized_series['id'].value_counts()"
   ]
  },
  {
   "cell_type": "code",
   "execution_count": 71,
   "metadata": {
    "scrolled": true
   },
   "outputs": [
    {
     "data": {
      "text/html": [
       "<div>\n",
       "<style scoped>\n",
       "    .dataframe tbody tr th:only-of-type {\n",
       "        vertical-align: middle;\n",
       "    }\n",
       "\n",
       "    .dataframe tbody tr th {\n",
       "        vertical-align: top;\n",
       "    }\n",
       "\n",
       "    .dataframe thead th {\n",
       "        text-align: right;\n",
       "    }\n",
       "</style>\n",
       "<table border=\"1\" class=\"dataframe\">\n",
       "  <thead>\n",
       "    <tr style=\"text-align: right;\">\n",
       "      <th></th>\n",
       "      <th>id</th>\n",
       "      <th>timepoint</th>\n",
       "      <th>amount</th>\n",
       "      <th>stand_amount</th>\n",
       "    </tr>\n",
       "  </thead>\n",
       "  <tbody>\n",
       "    <tr>\n",
       "      <th>0</th>\n",
       "      <td>12ar2</td>\n",
       "      <td>0</td>\n",
       "      <td>-0.650442</td>\n",
       "      <td>-0.780300</td>\n",
       "    </tr>\n",
       "    <tr>\n",
       "      <th>1</th>\n",
       "      <td>12ar2</td>\n",
       "      <td>1</td>\n",
       "      <td>0.796401</td>\n",
       "      <td>0.481466</td>\n",
       "    </tr>\n",
       "    <tr>\n",
       "      <th>2</th>\n",
       "      <td>12ar2</td>\n",
       "      <td>2</td>\n",
       "      <td>0.823032</td>\n",
       "      <td>0.504691</td>\n",
       "    </tr>\n",
       "    <tr>\n",
       "      <th>3</th>\n",
       "      <td>12ar2</td>\n",
       "      <td>3</td>\n",
       "      <td>-1.336524</td>\n",
       "      <td>-1.378620</td>\n",
       "    </tr>\n",
       "    <tr>\n",
       "      <th>4</th>\n",
       "      <td>12ar2</td>\n",
       "      <td>4</td>\n",
       "      <td>1.229389</td>\n",
       "      <td>0.859067</td>\n",
       "    </tr>\n",
       "  </tbody>\n",
       "</table>\n",
       "</div>"
      ],
      "text/plain": [
       "      id  timepoint    amount  stand_amount\n",
       "0  12ar2          0 -0.650442     -0.780300\n",
       "1  12ar2          1  0.796401      0.481466\n",
       "2  12ar2          2  0.823032      0.504691\n",
       "3  12ar2          3 -1.336524     -1.378620\n",
       "4  12ar2          4  1.229389      0.859067"
      ]
     },
     "execution_count": 71,
     "metadata": {},
     "output_type": "execute_result"
    }
   ],
   "source": [
    "standardized_series.head()"
   ]
  },
  {
   "cell_type": "code",
   "execution_count": null,
   "metadata": {},
   "outputs": [],
   "source": []
  },
  {
   "cell_type": "code",
   "execution_count": 23,
   "metadata": {},
   "outputs": [],
   "source": [
    "import pandas as pd\n",
    "import numpy as np\n",
    "\n",
    "series_groups = all_series.groupby('id')['amount', 'timepoint']\n",
    "standardized_series = pd.DataFrame()\n",
    "\n",
    "for key, group in series_groups:\n",
    "    # get mean and standard deviation within each id\n",
    "    group_mean = np.mean(group['amount']) \n",
    "    group_sd = np.std(group['amount'])\n",
    "    \n",
    "    this_sample = pd.DataFrame()\n",
    "    \n",
    "    # populated standardized df\n",
    "    this_sample['id'] = group['id']\n",
    "    this_sample['timepoint'] = group['timepoint']\n",
    "    this_sample['amount'] = group['amount']\n",
    "    this_sample['stand_amount'] = (group['amount'] - group_mean) / group_sd\n",
    "    this_sample['process'] = group['process']\n",
    "    \n",
    "    standardized_series = pd.concat([standardized_series, this_sample])"
   ]
  },
  {
   "cell_type": "code",
   "execution_count": 24,
   "metadata": {},
   "outputs": [
    {
     "data": {
      "text/html": [
       "<div>\n",
       "<style scoped>\n",
       "    .dataframe tbody tr th:only-of-type {\n",
       "        vertical-align: middle;\n",
       "    }\n",
       "\n",
       "    .dataframe tbody tr th {\n",
       "        vertical-align: top;\n",
       "    }\n",
       "\n",
       "    .dataframe thead th {\n",
       "        text-align: right;\n",
       "    }\n",
       "</style>\n",
       "<table border=\"1\" class=\"dataframe\">\n",
       "  <thead>\n",
       "    <tr style=\"text-align: right;\">\n",
       "      <th></th>\n",
       "      <th>id</th>\n",
       "      <th>timepoint</th>\n",
       "      <th>amount</th>\n",
       "      <th>stand_amount</th>\n",
       "      <th>process</th>\n",
       "    </tr>\n",
       "  </thead>\n",
       "  <tbody>\n",
       "    <tr>\n",
       "      <th>0</th>\n",
       "      <td>0ar1</td>\n",
       "      <td>0</td>\n",
       "      <td>-0.650442</td>\n",
       "      <td>-0.764443</td>\n",
       "      <td>ar1</td>\n",
       "    </tr>\n",
       "    <tr>\n",
       "      <th>1</th>\n",
       "      <td>0ar1</td>\n",
       "      <td>1</td>\n",
       "      <td>0.836030</td>\n",
       "      <td>0.569679</td>\n",
       "      <td>ar1</td>\n",
       "    </tr>\n",
       "    <tr>\n",
       "      <th>2</th>\n",
       "      <td>0ar1</td>\n",
       "      <td>2</td>\n",
       "      <td>1.093406</td>\n",
       "      <td>0.800676</td>\n",
       "      <td>ar1</td>\n",
       "    </tr>\n",
       "    <tr>\n",
       "      <th>3</th>\n",
       "      <td>0ar1</td>\n",
       "      <td>3</td>\n",
       "      <td>-1.770107</td>\n",
       "      <td>-1.769352</td>\n",
       "      <td>ar1</td>\n",
       "    </tr>\n",
       "    <tr>\n",
       "      <th>4</th>\n",
       "      <td>0ar1</td>\n",
       "      <td>4</td>\n",
       "      <td>0.898869</td>\n",
       "      <td>0.626078</td>\n",
       "      <td>ar1</td>\n",
       "    </tr>\n",
       "  </tbody>\n",
       "</table>\n",
       "</div>"
      ],
      "text/plain": [
       "     id  timepoint    amount  stand_amount process\n",
       "0  0ar1          0 -0.650442     -0.764443     ar1\n",
       "1  0ar1          1  0.836030      0.569679     ar1\n",
       "2  0ar1          2  1.093406      0.800676     ar1\n",
       "3  0ar1          3 -1.770107     -1.769352     ar1\n",
       "4  0ar1          4  0.898869      0.626078     ar1"
      ]
     },
     "execution_count": 24,
     "metadata": {},
     "output_type": "execute_result"
    }
   ],
   "source": [
    "standardized_series.head()"
   ]
  },
  {
   "cell_type": "code",
   "execution_count": 25,
   "metadata": {},
   "outputs": [],
   "source": [
    "ar1_0 = standardized_series[standardized_series['id'] == '0ar1']"
   ]
  },
  {
   "cell_type": "code",
   "execution_count": 27,
   "metadata": {},
   "outputs": [
    {
     "data": {
      "text/plain": [
       "[<matplotlib.lines.Line2D at 0x1c1c498e80>]"
      ]
     },
     "execution_count": 27,
     "metadata": {},
     "output_type": "execute_result"
    },
    {
     "data": {
      "image/png": "[encoded data removed]",
      "text/plain": [
       "<Figure size 432x288 with 1 Axes>"
      ]
     },
     "metadata": {
      "needs_background": "light"
     },
     "output_type": "display_data"
    }
   ],
   "source": [
    "import matplotlib.pyplot as plt\n",
    "plt.plot(ar1_0['amount'])"
   ]
  },
  {
   "cell_type": "code",
   "execution_count": 28,
   "metadata": {},
   "outputs": [
    {
     "data": {
      "text/plain": [
       "[<matplotlib.lines.Line2D at 0x1c1cb28b00>]"
      ]
     },
     "execution_count": 28,
     "metadata": {},
     "output_type": "execute_result"
    },
    {
     "data": {
      "image/png": "[encoded data removed]",
      "text/plain": [
       "<Figure size 432x288 with 1 Axes>"
      ]
     },
     "metadata": {
      "needs_background": "light"
     },
     "output_type": "display_data"
    }
   ],
   "source": [
    "plt.plot(ar1_0['stand_amount'])"
   ]
  },
  {
   "cell_type": "code",
   "execution_count": 49,
   "metadata": {},
   "outputs": [
    {
     "data": {
      "text/plain": [
       "(array([ 1.,  4.,  4., 11., 10., 15., 19.,  6.,  4.,  3.]),\n",
       " array([-2.82299374, -2.25921241, -1.69543108, -1.13164975, -0.56786843,\n",
       "        -0.0040871 ,  0.55969423,  1.12347556,  1.68725688,  2.25103821,\n",
       "         2.81481954]),\n",
       " <a list of 10 Patch objects>)"
      ]
     },
     "execution_count": 49,
     "metadata": {},
     "output_type": "execute_result"
    },
    {
     "data": {
      "image/png": "[encoded data removed]",
      "text/plain": [
       "<Figure size 432x288 with 1 Axes>"
      ]
     },
     "metadata": {
      "needs_background": "light"
     },
     "output_type": "display_data"
    }
   ],
   "source": [
    "plt.hist(ar1_0['amount'])"
   ]
  },
  {
   "cell_type": "code",
   "execution_count": 50,
   "metadata": {},
   "outputs": [
    {
     "data": {
      "text/plain": [
       "(array([ 1.,  4.,  4., 11., 10., 15., 19.,  6.,  4.,  3.]),\n",
       " array([-2.71432753, -2.20832873, -1.70232994, -1.19633114, -0.69033235,\n",
       "        -0.18433356,  0.32166524,  0.82766403,  1.33366283,  1.83966162,\n",
       "         2.34566042]),\n",
       " <a list of 10 Patch objects>)"
      ]
     },
     "execution_count": 50,
     "metadata": {},
     "output_type": "execute_result"
    },
    {
     "data": {
      "image/png": "[encoded data removed]",
      "text/plain": [
       "<Figure size 432x288 with 1 Axes>"
      ]
     },
     "metadata": {
      "needs_background": "light"
     },
     "output_type": "display_data"
    }
   ],
   "source": [
    "# notice the axis limits change\n",
    "plt.hist(ar1_0['stand_amount'])"
   ]
  },
  {
   "cell_type": "code",
   "execution_count": 30,
   "metadata": {},
   "outputs": [
    {
     "data": {
      "text/plain": [
       "id\n",
       "0ar1          2.012964e-01\n",
       "0ar2          2.018193e+00\n",
       "0arima011     1.187683e+01\n",
       "0arima110     1.218415e+01\n",
       "0arima111     1.191475e+01\n",
       "0arima112     1.745983e+01\n",
       "0arima211     4.023284e+02\n",
       "0arima222     8.928267e+11\n",
       "0arma11       2.294000e-01\n",
       "0arma12       1.112156e+00\n",
       "0arma21       6.289979e-01\n",
       "0arma22       1.092400e+00\n",
       "0ma1          2.790351e-01\n",
       "0ma2          3.916837e-01\n",
       "10ar1         1.539382e-01\n",
       "10ar2         9.073320e-01\n",
       "10arima011    8.745867e+00\n",
       "10arima110    2.308188e+01\n",
       "10arima111    1.366717e+01\n",
       "10arima112    2.033588e+01\n",
       "10arima211    2.380760e+02\n",
       "10arima222    5.033549e+02\n",
       "10arma11      1.853471e-01\n",
       "10arma12      2.087118e-01\n",
       "10arma21      5.673856e+05\n",
       "10arma22      5.857044e+02\n",
       "10ma1         1.744596e-01\n",
       "10ma2         5.280041e-01\n",
       "11ar1         1.121410e+00\n",
       "11ar2         2.596463e-01\n",
       "                  ...     \n",
       "98ma1         2.467455e-01\n",
       "98ma2         1.923549e-01\n",
       "99ar1         9.536458e-01\n",
       "99ar2         2.898873e+04\n",
       "99arima011    2.257102e+01\n",
       "99arima110    1.177480e+01\n",
       "99arima111    5.505226e+00\n",
       "99arima112    4.001136e+01\n",
       "99arima211    3.351373e+03\n",
       "99arima222    2.703945e+03\n",
       "99arma11      5.780794e+00\n",
       "99arma12      7.636332e+00\n",
       "99arma21      3.280544e+05\n",
       "99arma22      5.340704e+06\n",
       "99ma1         1.382842e-01\n",
       "99ma2         3.098920e-01\n",
       "9ar1          1.997569e-01\n",
       "9ar2          5.098437e-01\n",
       "9arima011     1.043171e+01\n",
       "9arima110     7.683601e+01\n",
       "9arima111     8.800620e+00\n",
       "9arima112     2.676496e+01\n",
       "9arima211     8.241857e+02\n",
       "9arima222     1.484412e+13\n",
       "9arma11       2.138110e+00\n",
       "9arma12       8.585914e-01\n",
       "9arma21       3.301967e-01\n",
       "9arma22       1.298906e+02\n",
       "9ma1          1.694693e-01\n",
       "9ma2          2.277253e-01\n",
       "Name: amount, Length: 1400, dtype: float64"
      ]
     },
     "execution_count": 30,
     "metadata": {},
     "output_type": "execute_result"
    }
   ],
   "source": [
    "# find a series that has \"amount\" on a very different scale\n",
    "all_series.groupby('id')['amount'].agg(np.mean)"
   ]
  },
  {
   "cell_type": "code",
   "execution_count": 31,
   "metadata": {},
   "outputs": [],
   "source": [
    "arima222_9 = standardized_series[standardized_series['id'] == '9arima222']"
   ]
  },
  {
   "cell_type": "code",
   "execution_count": 36,
   "metadata": {},
   "outputs": [
    {
     "data": {
      "text/plain": [
       "0     -6.504417e-01\n",
       "1     -1.493076e+00\n",
       "2     -1.361095e+00\n",
       "3     -1.391161e+00\n",
       "4     -1.099490e+00\n",
       "5     -9.805523e-01\n",
       "6     -4.671962e-01\n",
       "7      1.684934e+00\n",
       "8      7.378540e+00\n",
       "9      1.811210e+01\n",
       "10     3.577921e+01\n",
       "11     6.377360e+01\n",
       "12     1.055533e+02\n",
       "13     1.671066e+02\n",
       "14     2.545236e+02\n",
       "15     3.779582e+02\n",
       "16     5.529245e+02\n",
       "17     7.997478e+02\n",
       "18     1.146271e+03\n",
       "19     1.630704e+03\n",
       "20     2.307522e+03\n",
       "21     3.251111e+03\n",
       "22     4.564665e+03\n",
       "23     6.388524e+03\n",
       "24     8.915828e+03\n",
       "25     1.241505e+04\n",
       "26     1.725553e+04\n",
       "27     2.394865e+04\n",
       "28     3.320022e+04\n",
       "29     4.598539e+04\n",
       "           ...     \n",
       "71     3.568690e+10\n",
       "72     4.927707e+10\n",
       "73     6.804262e+10\n",
       "74     9.395440e+10\n",
       "75     1.297338e+11\n",
       "76     1.791387e+11\n",
       "77     2.473577e+11\n",
       "78     3.415557e+11\n",
       "79     4.716259e+11\n",
       "80     6.512291e+11\n",
       "81     8.992282e+11\n",
       "82     1.241669e+12\n",
       "83     1.714518e+12\n",
       "84     2.367436e+12\n",
       "85     3.268996e+12\n",
       "86     4.513885e+12\n",
       "87     6.232848e+12\n",
       "88     8.606423e+12\n",
       "89     1.188389e+13\n",
       "90     1.640948e+13\n",
       "91     2.265849e+13\n",
       "92     3.128723e+13\n",
       "93     4.320194e+13\n",
       "94     5.965397e+13\n",
       "95     8.237121e+13\n",
       "96     1.137396e+14\n",
       "97     1.570535e+14\n",
       "98     2.168621e+14\n",
       "99     2.994469e+14\n",
       "100    4.134814e+14\n",
       "Name: amount, Length: 101, dtype: float64"
      ]
     },
     "execution_count": 36,
     "metadata": {},
     "output_type": "execute_result"
    }
   ],
   "source": [
    "arima222_9['amount']"
   ]
  },
  {
   "cell_type": "code",
   "execution_count": 37,
   "metadata": {},
   "outputs": [
    {
     "data": {
      "text/plain": [
       "[<matplotlib.lines.Line2D at 0x1c12f44f98>]"
      ]
     },
     "execution_count": 37,
     "metadata": {},
     "output_type": "execute_result"
    },
    {
     "data": {
      "image/png": "[encoded data removed]",
      "text/plain": [
       "<Figure size 432x288 with 1 Axes>"
      ]
     },
     "metadata": {
      "needs_background": "light"
     },
     "output_type": "display_data"
    }
   ],
   "source": [
    "plt.plot(arima222_9['amount'])"
   ]
  },
  {
   "cell_type": "code",
   "execution_count": 38,
   "metadata": {},
   "outputs": [
    {
     "data": {
      "text/plain": [
       "[<matplotlib.lines.Line2D at 0x1c1d12b908>]"
      ]
     },
     "execution_count": 38,
     "metadata": {},
     "output_type": "execute_result"
    },
    {
     "data": {
      "image/png": "[encoded data removed]",
      "text/plain": [
       "<Figure size 432x288 with 1 Axes>"
      ]
     },
     "metadata": {
      "needs_background": "light"
     },
     "output_type": "display_data"
    }
   ],
   "source": [
    "plt.plot(arima222_9['stand_amount'])"
   ]
  },
  {
   "cell_type": "code",
   "execution_count": 47,
   "metadata": {},
   "outputs": [
    {
     "data": {
      "text/plain": [
       "(array([93.,  3.,  1.,  1.,  0.,  1.,  0.,  1.,  0.,  1.]),\n",
       " array([-1.49307582e+00,  4.13481399e+13,  8.26962797e+13,  1.24044420e+14,\n",
       "         1.65392559e+14,  2.06740699e+14,  2.48088839e+14,  2.89436979e+14,\n",
       "         3.30785119e+14,  3.72133259e+14,  4.13481399e+14]),\n",
       " <a list of 10 Patch objects>)"
      ]
     },
     "execution_count": 47,
     "metadata": {},
     "output_type": "execute_result"
    },
    {
     "data": {
      "image/png": "[encoded data removed]",
      "text/plain": [
       "<Figure size 432x288 with 1 Axes>"
      ]
     },
     "metadata": {
      "needs_background": "light"
     },
     "output_type": "display_data"
    }
   ],
   "source": [
    "plt.hist(arima222_9['amount'])"
   ]
  },
  {
   "cell_type": "code",
   "execution_count": 48,
   "metadata": {},
   "outputs": [
    {
     "data": {
      "text/plain": [
       "(array([93.,  3.,  1.,  1.,  0.,  1.,  0.,  1.,  0.,  1.]),\n",
       " array([-0.25687364,  0.4586452 ,  1.17416404,  1.88968287,  2.60520171,\n",
       "         3.32072055,  4.03623939,  4.75175822,  5.46727706,  6.1827959 ,\n",
       "         6.89831474]),\n",
       " <a list of 10 Patch objects>)"
      ]
     },
     "execution_count": 48,
     "metadata": {},
     "output_type": "execute_result"
    },
    {
     "data": {
      "image/png": "[encoded data removed]",
      "text/plain": [
       "<Figure size 432x288 with 1 Axes>"
      ]
     },
     "metadata": {
      "needs_background": "light"
     },
     "output_type": "display_data"
    }
   ],
   "source": [
    "plt.hist(arima222_9['stand_amount'])"
   ]
  },
  {
   "cell_type": "code",
   "execution_count": 39,
   "metadata": {},
   "outputs": [],
   "source": [
    "# what about min max normalization for these series that have the very large values?\n",
    "from sklearn.preprocessing import MinMaxScaler\n",
    "\n",
    "values = arima222_9['amount'].values\n",
    "values = values.reshape((len(values), 1))\n",
    "\n",
    "scaler = MinMaxScaler(feature_range=(0,1))\n",
    "scaler = scaler.fit(values)\n",
    "\n",
    "normalized_arima222_9 = scaler.transform(values)"
   ]
  },
  {
   "cell_type": "code",
   "execution_count": 44,
   "metadata": {},
   "outputs": [
    {
     "data": {
      "text/plain": [
       "[<matplotlib.lines.Line2D at 0x1c1e137470>]"
      ]
     },
     "execution_count": 44,
     "metadata": {},
     "output_type": "execute_result"
    },
    {
     "data": {
      "image/png": "[encoded data removed]",
      "text/plain": [
       "<Figure size 432x288 with 1 Axes>"
      ]
     },
     "metadata": {
      "needs_background": "light"
     },
     "output_type": "display_data"
    }
   ],
   "source": [
    "plt.plot(normalized_arima222_9)"
   ]
  },
  {
   "cell_type": "code",
   "execution_count": 51,
   "metadata": {},
   "outputs": [
    {
     "data": {
      "text/plain": [
       "(array([93.,  3.,  1.,  1.,  0.,  1.,  0.,  1.,  0.,  1.]),\n",
       " array([0. , 0.1, 0.2, 0.3, 0.4, 0.5, 0.6, 0.7, 0.8, 0.9, 1. ]),\n",
       " <a list of 10 Patch objects>)"
      ]
     },
     "execution_count": 51,
     "metadata": {},
     "output_type": "execute_result"
    },
    {
     "data": {
      "image/png": "[encoded data removed]",
      "text/plain": [
       "<Figure size 432x288 with 1 Axes>"
      ]
     },
     "metadata": {
      "needs_background": "light"
     },
     "output_type": "display_data"
    }
   ],
   "source": [
    "plt.hist(normalized_arima222_9)"
   ]
  },
  {
   "cell_type": "markdown",
   "metadata": {},
   "source": [
    "### Calculate pairwise distances"
   ]
  },
  {
   "cell_type": "code",
   "execution_count": 52,
   "metadata": {},
   "outputs": [
    {
     "data": {
      "text/html": [
       "<div>\n",
       "<style scoped>\n",
       "    .dataframe tbody tr th:only-of-type {\n",
       "        vertical-align: middle;\n",
       "    }\n",
       "\n",
       "    .dataframe tbody tr th {\n",
       "        vertical-align: top;\n",
       "    }\n",
       "\n",
       "    .dataframe thead th {\n",
       "        text-align: right;\n",
       "    }\n",
       "</style>\n",
       "<table border=\"1\" class=\"dataframe\">\n",
       "  <thead>\n",
       "    <tr style=\"text-align: right;\">\n",
       "      <th></th>\n",
       "      <th>id</th>\n",
       "      <th>timepoint</th>\n",
       "      <th>amount</th>\n",
       "      <th>stand_amount</th>\n",
       "      <th>process</th>\n",
       "    </tr>\n",
       "  </thead>\n",
       "  <tbody>\n",
       "    <tr>\n",
       "      <th>0</th>\n",
       "      <td>0ar1</td>\n",
       "      <td>0</td>\n",
       "      <td>-0.650442</td>\n",
       "      <td>-0.764443</td>\n",
       "      <td>ar1</td>\n",
       "    </tr>\n",
       "    <tr>\n",
       "      <th>1</th>\n",
       "      <td>0ar1</td>\n",
       "      <td>1</td>\n",
       "      <td>0.836030</td>\n",
       "      <td>0.569679</td>\n",
       "      <td>ar1</td>\n",
       "    </tr>\n",
       "    <tr>\n",
       "      <th>2</th>\n",
       "      <td>0ar1</td>\n",
       "      <td>2</td>\n",
       "      <td>1.093406</td>\n",
       "      <td>0.800676</td>\n",
       "      <td>ar1</td>\n",
       "    </tr>\n",
       "    <tr>\n",
       "      <th>3</th>\n",
       "      <td>0ar1</td>\n",
       "      <td>3</td>\n",
       "      <td>-1.770107</td>\n",
       "      <td>-1.769352</td>\n",
       "      <td>ar1</td>\n",
       "    </tr>\n",
       "    <tr>\n",
       "      <th>4</th>\n",
       "      <td>0ar1</td>\n",
       "      <td>4</td>\n",
       "      <td>0.898869</td>\n",
       "      <td>0.626078</td>\n",
       "      <td>ar1</td>\n",
       "    </tr>\n",
       "  </tbody>\n",
       "</table>\n",
       "</div>"
      ],
      "text/plain": [
       "     id  timepoint    amount  stand_amount process\n",
       "0  0ar1          0 -0.650442     -0.764443     ar1\n",
       "1  0ar1          1  0.836030      0.569679     ar1\n",
       "2  0ar1          2  1.093406      0.800676     ar1\n",
       "3  0ar1          3 -1.770107     -1.769352     ar1\n",
       "4  0ar1          4  0.898869      0.626078     ar1"
      ]
     },
     "execution_count": 52,
     "metadata": {},
     "output_type": "execute_result"
    }
   ],
   "source": [
    "standardized_series.head()"
   ]
  },
  {
   "cell_type": "code",
   "execution_count": 54,
   "metadata": {},
   "outputs": [
    {
     "name": "stdout",
     "output_type": "stream",
     "text": [
      "   timepoint    amount  stand_amount\n",
      "0          0 -0.650442     -0.752905\n",
      "1          1  0.638308      0.432046\n",
      "2          2  1.283088      1.024894\n",
      "3          3 -1.375899     -1.419932\n",
      "4          4  0.489297      0.295036\n",
      "   timepoint    amount  stand_amount\n",
      "0          0 -0.650442     -1.482808\n",
      "1          1  0.028252     -1.375705\n",
      "2          2  1.327663     -1.170648\n",
      "3          3 -0.182814     -1.409013\n",
      "4          4  0.281534     -1.335735\n",
      "53\n",
      "79\n"
     ]
    }
   ],
   "source": [
    "# example pair \n",
    "one = standardized_series[standardized_series['id'] == '1ar1'][['timepoint', 'amount', 'stand_amount']].sort_values('timepoint')\n",
    "two = standardized_series[standardized_series['id'] == '10arima011'][['timepoint', 'amount', 'stand_amount']].sort_values('timepoint')\n",
    "\n",
    "print(one.head())\n",
    "print(two.head())\n",
    "print(len(one))\n",
    "print(len(two))"
   ]
  },
  {
   "cell_type": "markdown",
   "metadata": {},
   "source": [
    "Euclidean distance calculation produces a larger difference than Manhattan distance:"
   ]
  },
  {
   "cell_type": "code",
   "execution_count": 56,
   "metadata": {},
   "outputs": [
    {
     "data": {
      "text/plain": [
       "6.147257321523286"
      ]
     },
     "execution_count": 56,
     "metadata": {},
     "output_type": "execute_result"
    }
   ],
   "source": [
    "import dtaidistance \n",
    "# euclidean distance \n",
    "dtaidistance.dtw.distance(np.array(one['stand_amount']), np.array(two['stand_amount']))"
   ]
  },
  {
   "cell_type": "code",
   "execution_count": 62,
   "metadata": {},
   "outputs": [
    {
     "name": "stderr",
     "output_type": "stream",
     "text": [
      "/Users/athenahadjixenofontos/anaconda3/lib/python3.7/site-packages/ipykernel_launcher.py:3: FutureWarning: Conversion of the second argument of issubdtype from `float` to `np.floating` is deprecated. In future, it will be treated as `np.float64 == np.dtype(float).type`.\n",
      "  This is separate from the ipykernel package so we can avoid doing imports until\n"
     ]
    }
   ],
   "source": [
    "import fastdtw\n",
    "# manhattan distance (dist = 1) is more appropriate for high dimensional spaces\n",
    "distance, path = fastdtw.fastdtw(one[['timepoint', 'stand_amount']], two[['timepoint', 'stand_amount']], dist=1) "
   ]
  },
  {
   "cell_type": "code",
   "execution_count": 63,
   "metadata": {},
   "outputs": [
    {
     "data": {
      "text/plain": [
       "415.9286623224003"
      ]
     },
     "execution_count": 63,
     "metadata": {},
     "output_type": "execute_result"
    }
   ],
   "source": [
    "distance"
   ]
  },
  {
   "cell_type": "code",
   "execution_count": 64,
   "metadata": {},
   "outputs": [
    {
     "data": {
      "text/plain": [
       "[(0, 0),\n",
       " (1, 1),\n",
       " (2, 2),\n",
       " (3, 3),\n",
       " (4, 4),\n",
       " (5, 5),\n",
       " (6, 6),\n",
       " (7, 7),\n",
       " (8, 8),\n",
       " (9, 9),\n",
       " (10, 10),\n",
       " (11, 11),\n",
       " (12, 12),\n",
       " (13, 13),\n",
       " (14, 14),\n",
       " (15, 15),\n",
       " (16, 16),\n",
       " (17, 17),\n",
       " (18, 18),\n",
       " (19, 19),\n",
       " (20, 20),\n",
       " (21, 21),\n",
       " (22, 22),\n",
       " (23, 23),\n",
       " (24, 24),\n",
       " (25, 25),\n",
       " (26, 26),\n",
       " (27, 27),\n",
       " (28, 28),\n",
       " (29, 29),\n",
       " (30, 30),\n",
       " (31, 31),\n",
       " (32, 32),\n",
       " (33, 33),\n",
       " (34, 34),\n",
       " (35, 35),\n",
       " (36, 36),\n",
       " (37, 37),\n",
       " (38, 38),\n",
       " (39, 39),\n",
       " (40, 40),\n",
       " (41, 41),\n",
       " (42, 42),\n",
       " (43, 43),\n",
       " (44, 44),\n",
       " (45, 45),\n",
       " (46, 46),\n",
       " (47, 47),\n",
       " (48, 48),\n",
       " (49, 49),\n",
       " (50, 50),\n",
       " (51, 51),\n",
       " (52, 52),\n",
       " (52, 53),\n",
       " (52, 54),\n",
       " (52, 55),\n",
       " (52, 56),\n",
       " (52, 57),\n",
       " (52, 58),\n",
       " (52, 59),\n",
       " (52, 60),\n",
       " (52, 61),\n",
       " (52, 62),\n",
       " (52, 63),\n",
       " (52, 64),\n",
       " (52, 65),\n",
       " (52, 66),\n",
       " (52, 67),\n",
       " (52, 68),\n",
       " (52, 69),\n",
       " (52, 70),\n",
       " (52, 71),\n",
       " (52, 72),\n",
       " (52, 73),\n",
       " (52, 74),\n",
       " (52, 75),\n",
       " (52, 76),\n",
       " (52, 77),\n",
       " (52, 78)]"
      ]
     },
     "execution_count": 64,
     "metadata": {},
     "output_type": "execute_result"
    }
   ],
   "source": [
    "path \n",
    "# there is nothing to warp in order to line up these two time series so they are simply paired up until the end, \n",
    "#where the last time point of the shorter series is paired up with the remaining timepoints of the longer one"
   ]
  },
  {
   "cell_type": "code",
   "execution_count": 65,
   "metadata": {},
   "outputs": [
    {
     "name": "stdout",
     "output_type": "stream",
     "text": [
      "812.0150294133322\n",
      "[(0, 0), (1, 1), (2, 2), (3, 3), (4, 4), (5, 5), (6, 6), (7, 7), (8, 8), (9, 9), (10, 10), (11, 11), (12, 12), (13, 13), (14, 14), (15, 15), (16, 16), (17, 17), (18, 18), (19, 19), (20, 20), (21, 21), (22, 22), (23, 23), (24, 24), (25, 25), (26, 26), (27, 27), (28, 28), (29, 29), (30, 30), (31, 31), (32, 32), (33, 33), (34, 34), (35, 35), (36, 36), (37, 37), (38, 38), (39, 39), (40, 40), (41, 41), (42, 42), (43, 43), (44, 44), (45, 45), (46, 46), (46, 47), (47, 48), (47, 49), (47, 50), (48, 51), (49, 52), (49, 53), (50, 54), (51, 55), (52, 56), (52, 57), (52, 58), (52, 59), (52, 60), (52, 61), (52, 62), (52, 63), (52, 64), (52, 65), (52, 66), (52, 67), (52, 68), (52, 69), (52, 70), (52, 71), (52, 72), (52, 73), (52, 74), (52, 75), (52, 76), (52, 77), (52, 78)]\n"
     ]
    }
   ],
   "source": [
    "# euclidean distance with fastdtw to compare implementations\n",
    "from scipy.spatial.distance import euclidean\n",
    "euc_dist, euc_path = fastdtw.fastdtw(one, two, dist = euclidean)\n",
    "print(euc_dist)\n",
    "print(euc_path)"
   ]
  },
  {
   "cell_type": "code",
   "execution_count": 66,
   "metadata": {},
   "outputs": [
    {
     "data": {
      "text/plain": [
       "[<matplotlib.lines.Line2D at 0x1c1cde21d0>]"
      ]
     },
     "execution_count": 66,
     "metadata": {},
     "output_type": "execute_result"
    },
    {
     "data": {
      "image/png": "[encoded data removed]",
      "text/plain": [
       "<Figure size 432x288 with 1 Axes>"
      ]
     },
     "metadata": {
      "needs_background": "light"
     },
     "output_type": "display_data"
    }
   ],
   "source": [
    "plt.plot(one['timepoint'], one['stand_amount'])"
   ]
  },
  {
   "cell_type": "code",
   "execution_count": 67,
   "metadata": {},
   "outputs": [
    {
     "data": {
      "text/plain": [
       "[<matplotlib.lines.Line2D at 0x1c1c814a58>]"
      ]
     },
     "execution_count": 67,
     "metadata": {},
     "output_type": "execute_result"
    },
    {
     "data": {
      "image/png": "[encoded data removed]",
      "text/plain": [
       "<Figure size 432x288 with 1 Axes>"
      ]
     },
     "metadata": {
      "needs_background": "light"
     },
     "output_type": "display_data"
    }
   ],
   "source": [
    "plt.plot(one['timepoint'], one['amount'])"
   ]
  },
  {
   "cell_type": "markdown",
   "metadata": {},
   "source": [
    "Would it be more appropriate to standardize all series together? No, they are different processes. "
   ]
  },
  {
   "cell_type": "code",
   "execution_count": 68,
   "metadata": {},
   "outputs": [
    {
     "data": {
      "text/plain": [
       "[<matplotlib.lines.Line2D at 0x1c1e1629e8>]"
      ]
     },
     "execution_count": 68,
     "metadata": {},
     "output_type": "execute_result"
    },
    {
     "data": {
      "image/png": "[encoded data removed]",
      "text/plain": [
       "<Figure size 432x288 with 1 Axes>"
      ]
     },
     "metadata": {
      "needs_background": "light"
     },
     "output_type": "display_data"
    }
   ],
   "source": [
    "plt.plot(two['timepoint'], two['stand_amount'])"
   ]
  },
  {
   "cell_type": "code",
   "execution_count": 69,
   "metadata": {},
   "outputs": [
    {
     "data": {
      "text/plain": [
       "[(0, 0),\n",
       " (0, 1),\n",
       " (0, 2),\n",
       " (0, 3),\n",
       " (0, 4),\n",
       " (0, 5),\n",
       " (0, 6),\n",
       " (0, 7),\n",
       " (0, 8),\n",
       " (0, 9),\n",
       " (0, 10),\n",
       " (0, 11),\n",
       " (0, 12),\n",
       " (0, 13),\n",
       " (0, 14),\n",
       " (0, 15),\n",
       " (0, 16),\n",
       " (0, 17),\n",
       " (0, 18),\n",
       " (0, 19),\n",
       " (1, 20),\n",
       " (2, 20),\n",
       " (3, 20),\n",
       " (4, 20),\n",
       " (5, 20),\n",
       " (6, 21),\n",
       " (7, 22),\n",
       " (8, 22),\n",
       " (9, 23),\n",
       " (10, 23),\n",
       " (11, 23),\n",
       " (12, 24),\n",
       " (13, 25),\n",
       " (14, 26),\n",
       " (15, 27),\n",
       " (15, 28),\n",
       " (16, 29),\n",
       " (17, 29),\n",
       " (18, 29),\n",
       " (19, 29),\n",
       " (20, 29),\n",
       " (21, 29),\n",
       " (22, 29),\n",
       " (23, 30),\n",
       " (23, 31),\n",
       " (23, 32),\n",
       " (23, 33),\n",
       " (24, 34),\n",
       " (25, 35),\n",
       " (26, 35),\n",
       " (27, 35),\n",
       " (28, 35),\n",
       " (29, 35),\n",
       " (30, 36),\n",
       " (31, 37),\n",
       " (32, 38),\n",
       " (32, 39),\n",
       " (33, 40),\n",
       " (34, 41),\n",
       " (35, 42),\n",
       " (36, 43),\n",
       " (37, 43),\n",
       " (38, 44),\n",
       " (39, 45),\n",
       " (40, 46),\n",
       " (40, 47),\n",
       " (40, 48),\n",
       " (41, 49),\n",
       " (42, 50),\n",
       " (43, 51),\n",
       " (44, 52),\n",
       " (44, 53),\n",
       " (44, 54),\n",
       " (45, 55),\n",
       " (45, 56),\n",
       " (45, 57),\n",
       " (45, 58),\n",
       " (46, 59),\n",
       " (47, 59),\n",
       " (48, 59),\n",
       " (49, 59),\n",
       " (50, 59),\n",
       " (51, 59),\n",
       " (52, 60),\n",
       " (52, 61),\n",
       " (52, 62),\n",
       " (52, 63),\n",
       " (52, 64),\n",
       " (52, 65),\n",
       " (52, 66),\n",
       " (52, 67),\n",
       " (52, 68),\n",
       " (52, 69),\n",
       " (52, 70),\n",
       " (52, 71),\n",
       " (52, 72),\n",
       " (52, 73),\n",
       " (52, 74),\n",
       " (52, 75),\n",
       " (52, 76),\n",
       " (52, 77),\n",
       " (52, 78)]"
      ]
     },
     "execution_count": 69,
     "metadata": {},
     "output_type": "execute_result"
    }
   ],
   "source": [
    "# the path is different if euclidian distance is taken \n",
    "# does this make sense? yes\n",
    "dtai_path = dtaidistance.dtw.warping_path(one['stand_amount'], two['stand_amount'])\n",
    "dtai_path"
   ]
  },
  {
   "cell_type": "code",
   "execution_count": 72,
   "metadata": {},
   "outputs": [
    {
     "data": {
      "text/plain": [
       "(None, None)"
      ]
     },
     "execution_count": 72,
     "metadata": {},
     "output_type": "execute_result"
    }
   ],
   "source": [
    "# plot warping with fastdtw manhattan distances \n",
    "from dtaidistance import dtw_visualisation as dtwvis\n",
    "dtwvis.plot_warping(one['stand_amount'], two['stand_amount'], path, filename = \"one_two_warp_manhattan_fastdtw.png\")"
   ]
  },
  {
   "cell_type": "markdown",
   "metadata": {},
   "source": [
    "<img src = \"one_two_warp_manhattan_fastdtw.png\">"
   ]
  },
  {
   "cell_type": "code",
   "execution_count": 73,
   "metadata": {},
   "outputs": [
    {
     "data": {
      "text/plain": [
       "(None, None)"
      ]
     },
     "execution_count": 73,
     "metadata": {},
     "output_type": "execute_result"
    }
   ],
   "source": [
    "# plot warping path with dtaidistance euclidean distances \n",
    "dtwvis.plot_warping(one['stand_amount'], two['stand_amount'], dtai_path, filename = \"one_two_warp_euc_dtaidistance.png\")"
   ]
  },
  {
   "cell_type": "markdown",
   "metadata": {},
   "source": [
    "<img src = \"one_two_warp_euc_dtaidistance.png\">"
   ]
  },
  {
   "cell_type": "code",
   "execution_count": 74,
   "metadata": {},
   "outputs": [
    {
     "data": {
      "text/plain": [
       "(None, None)"
      ]
     },
     "execution_count": 74,
     "metadata": {},
     "output_type": "execute_result"
    }
   ],
   "source": [
    "# plot warping path with fastdtw euclidean distances \n",
    "dtwvis.plot_warping(one['stand_amount'], two['stand_amount'], euc_path, filename = \"one_two_warp_euc_fastdtw.png\")"
   ]
  },
  {
   "cell_type": "markdown",
   "metadata": {},
   "source": [
    "<img src = \"one_two_warp_euc_fastdtw.png\">"
   ]
  },
  {
   "cell_type": "markdown",
   "metadata": {},
   "source": [
    "### Distance calculations between unstandardized series"
   ]
  },
  {
   "cell_type": "code",
   "execution_count": 75,
   "metadata": {},
   "outputs": [
    {
     "name": "stdout",
     "output_type": "stream",
     "text": [
      "792.2078315370145\n",
      "[(0, 0), (1, 1), (2, 2), (3, 3), (4, 4), (5, 5), (6, 6), (7, 7), (8, 8), (9, 9), (10, 10), (11, 11), (12, 12), (13, 13), (14, 14), (15, 15), (16, 16), (17, 17), (18, 18), (19, 19), (20, 20), (21, 21), (22, 22), (23, 23), (24, 24), (25, 25), (26, 26), (27, 27), (28, 28), (29, 29), (30, 30), (31, 31), (32, 32), (33, 33), (34, 34), (35, 35), (36, 36), (37, 37), (38, 38), (39, 39), (40, 40), (41, 41), (42, 42), (43, 43), (44, 44), (45, 45), (46, 46), (46, 47), (46, 48), (47, 49), (47, 50), (47, 51), (48, 52), (49, 53), (50, 54), (51, 55), (52, 56), (52, 57), (52, 58), (52, 59), (52, 60), (52, 61), (52, 62), (52, 63), (52, 64), (52, 65), (52, 66), (52, 67), (52, 68), (52, 69), (52, 70), (52, 71), (52, 72), (52, 73), (52, 74), (52, 75), (52, 76), (52, 77), (52, 78)]\n"
     ]
    }
   ],
   "source": [
    "euc_dist_not_scaled, euc_path_not_scaled = fastdtw.fastdtw(one[['timepoint', 'amount']], two[['timepoint', 'amount']], dist = euclidean)\n",
    "print(euc_dist_not_scaled)\n",
    "print(euc_path_not_scaled)"
   ]
  },
  {
   "cell_type": "code",
   "execution_count": 76,
   "metadata": {},
   "outputs": [
    {
     "data": {
      "text/plain": [
       "(None, None)"
      ]
     },
     "execution_count": 76,
     "metadata": {},
     "output_type": "execute_result"
    }
   ],
   "source": [
    "dtwvis.plot_warping(one['amount'], two['amount'], euc_path_not_scaled, filename = \"one_two_warp_euc_not_scaled_fastdtw.png\")"
   ]
  },
  {
   "cell_type": "markdown",
   "metadata": {},
   "source": [
    "<img src = \"one_two_warp_euc_not_scaled_fastdtw.png\">"
   ]
  },
  {
   "cell_type": "code",
   "execution_count": 77,
   "metadata": {},
   "outputs": [],
   "source": [
    "dtai_path_not_scaled = dtaidistance.dtw.warping_path(one['amount'], two['amount'])"
   ]
  },
  {
   "cell_type": "code",
   "execution_count": 78,
   "metadata": {},
   "outputs": [
    {
     "data": {
      "text/plain": [
       "(None, None)"
      ]
     },
     "execution_count": 78,
     "metadata": {},
     "output_type": "execute_result"
    }
   ],
   "source": [
    "# plot warping path with dtaidistance euclidean distances and unscaled amounts\n",
    "dtwvis.plot_warping(one['amount'], two['amount'], dtai_path, filename = \"one_two_warp_euc_not_scaled_dtaidistance.png\")"
   ]
  },
  {
   "cell_type": "markdown",
   "metadata": {},
   "source": [
    "<img src = \"one_two_warp_euc_not_scaled_dtaidistance.png\">"
   ]
  },
  {
   "cell_type": "markdown",
   "metadata": {},
   "source": [
    "Observations:  \n",
    "\n",
    "* Fastdtw seems to warp the series much less\n",
    "   * Try it with a pair that looks more similar to see whether the less warping is appropriate\n",
    "* The z-score amounts seems to not affect this one example (note that a quantitative comparison has yet to be done). Given the strength of the literature FOR standardizing, I will keep the z-score standardization for all of the distance calculations. \n",
    "   * Note that the scales here were relatively similar. For the series that are in 1e14 scales, the comparison will be different. "
   ]
  },
  {
   "cell_type": "code",
   "execution_count": null,
   "metadata": {},
   "outputs": [],
   "source": []
  }
 ],
 "metadata": {
  "kernelspec": {
   "display_name": "Python 3",
   "language": "python",
   "name": "python3"
  },
  "language_info": {
   "codemirror_mode": {
    "name": "ipython",
    "version": 3
   },
   "file_extension": ".py",
   "mimetype": "text/x-python",
   "name": "python",
   "nbconvert_exporter": "python",
   "pygments_lexer": "ipython3",
   "version": "3.7.2"
  }
 },
 "nbformat": 4,
 "nbformat_minor": 2
}
