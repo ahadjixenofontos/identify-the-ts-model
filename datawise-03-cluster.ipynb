{
 "cells": [
  {
   "cell_type": "markdown",
   "metadata": {},
   "source": [
    "## Forecasting when faced with thousands of time series\n",
    "\n",
    "* Simulate various time series\n",
    "* Cluster them \n",
    "* Assign models to the clusters\n",
    "* Plot performance metric distribution\n",
    "* For example time series, compare cluster-derived model with indvidually fit model\n",
    "\n",
    "The idea behind most models is to reduce the input data to random noise. What I mean by that is that you want to explain as much of the variation in the input data as you possibly can while using the model. So if you were to subtract the parts of the data which were successfully modeled from the input data, you would want to end up with a portion that has no structure left to it, and resembles independent and identically distributed random noise. This is the idea behind "
   ]
  },
  {
   "cell_type": "code",
   "execution_count": 1,
   "metadata": {},
   "outputs": [],
   "source": [
    "import tslearn\n",
    "import hdbscan \n",
    "\n",
    "# has warping path visualization functionality\n",
    "import dtaidistance # only calculates euclidean distance to speed up C-code underneath by avoiding extra function calls\n",
    "from dtaidistance import dtw_visualisation as dtwvis\n",
    "\n",
    "import fastdtw\n",
    "import statsmodels.api as sm\n",
    "from statsmodels.tsa.arima_process import arma_generate_sample\n",
    "import numpy as np\n",
    "import pandas as pd\n",
    "import scipy as sp\n",
    "import random\n",
    "import matplotlib.pyplot as plt\n",
    "%matplotlib inline\n",
    "\n",
    "from time_series_simulations import time_series_simulations"
   ]
  },
  {
   "cell_type": "code",
   "execution_count": 2,
   "metadata": {},
   "outputs": [],
   "source": [
    "standardized_series = time_series_simulations.simulate_ts_population()"
   ]
  },
  {
   "cell_type": "markdown",
   "metadata": {},
   "source": [
    "## Calculate pairwise distances"
   ]
  },
  {
   "cell_type": "code",
   "execution_count": 3,
   "metadata": {},
   "outputs": [
    {
     "name": "stdout",
     "output_type": "stream",
     "text": [
      "[-0.72685071  0.52563225  0.95930649 -1.56256248  0.45150355 -0.71395721\n",
      "  0.40762941  0.88821814  0.92704023  0.02040741 -0.16955663  0.5874664\n",
      " -0.61815856  0.56904348 -1.45915175  0.16842142  1.51584452  0.36570559\n",
      "  0.34337022  0.07911277  1.63906113  0.8220618   1.28789809 -0.62880688\n",
      " -1.20176961  0.48687677 -0.92090982  0.42800492  0.1558313   0.55878002\n",
      " -1.18562172 -0.57440987 -0.79067984 -1.7945497  -0.21673961  0.53757386\n",
      " -1.42324141 -1.32781774 -0.59417461 -1.70969325 -0.28448457  0.22150796\n",
      "  0.71791662 -1.55781998  0.30037301  0.25301397  2.31896862  1.61849892\n",
      " -0.3563183   0.2569566  -0.69207831 -0.66195407  1.40825923  0.82585874\n",
      "  0.31476634  1.51400186 -0.35623994 -0.32276455  1.15329419  0.51057827\n",
      "  2.52435865  1.39170539  1.25300208 -0.27805596 -0.4274982   0.04867993\n",
      "  0.04055038 -1.71015166 -1.23078383  0.27622799 -0.04998011  0.71404242\n",
      "  0.34902176 -0.70697789  1.98689171  1.65046206 -2.4003277  -2.44305963\n",
      "  0.51793546 -0.09266708 -1.32180144 -0.18299565 -1.41151159 -0.82179441\n",
      "  1.55853336 -0.2821543  -0.98509746  1.14062569  1.26608822 -1.13580118\n",
      " -0.19984386 -1.23132585 -0.30182382 -0.06698186 -0.88830423 -0.13759041\n",
      " -1.12893016 -0.59479639 -0.47112494  0.28655929  2.00092237 -0.10535788\n",
      " -0.73781988  0.63625961 -0.01381179  1.5079123  -0.56841401 -0.5525401\n",
      "  1.01252443 -0.08163432  0.83038914  0.09401752  0.42713591 -1.09657429\n",
      " -0.19010583  0.3574545  -1.31213546]\n"
     ]
    }
   ],
   "source": [
    "# dtaidistance has a built in function that produces a pairwise distance matrix \n",
    "# first put all the series in a list of lists \n",
    "series_list = standardized_series.groupby('id')['stand_amount'].apply(np.array) # returns a series\n",
    "series_list = [np.array(x) for x in series_list] # cast series into a list of np.arrays\n",
    "print(series_list[0])"
   ]
  },
  {
   "cell_type": "code",
   "execution_count": 4,
   "metadata": {},
   "outputs": [],
   "source": [
    "# then calculate the matrix\n",
    "distance_matrix = dtaidistance.dtw.distance_matrix_fast(series_list)"
   ]
  },
  {
   "cell_type": "code",
   "execution_count": 5,
   "metadata": {},
   "outputs": [],
   "source": [
    "# alternatively, here is my code to do the pairwise calculations without a library\n",
    "# this is probably slower than dtaidistance.dtw.distance_matrix_fast \n",
    "# create an empty square dataframe to populate with distances\n",
    "# n_accounts = len(np.unique(standardized_series['id'])) \n",
    "# pairwise_dtw = pd.DataFrame(np.zeros([n_accounts, n_accounts])) "
   ]
  },
  {
   "cell_type": "code",
   "execution_count": 14,
   "metadata": {},
   "outputs": [],
   "source": [
    "# n_accounts"
   ]
  },
  {
   "cell_type": "code",
   "execution_count": 8,
   "metadata": {},
   "outputs": [],
   "source": [
    "# # get the iterable\n",
    "# the_ids = standardized_series['id']\n",
    "\n",
    "# # loop through the iterable\n",
    "# for i, id1 in enumerate(the_ids):\n",
    "#     for j, id2 in enumerate(the_ids): # only populate top half \n",
    "#         # get the accounts' time series\n",
    "#         ts_one = standardized_series.loc[standardized_series['id'] == id1, ['timepoint', 'amount']]\n",
    "#         ts_two = standardized_series.loc[standardized_series['id'] == id2, ['timepoint', 'amount']]\n",
    "        \n",
    "#         # calculate Manhattan distance\n",
    "#         pairwise_dtw.loc[i,j] = fastdtw.fastdtw(ts_one, ts_two, dist=1)[0]\n",
    "#         print(i,id1, \"\\t\",j, id2)\n",
    "        \n",
    "#         # calculate Euclidean distance\n",
    "#         #pairwise_dtw.loc[i,j] = dtaidistance.dtw.distance(ts_one['amount'], ts_two['amount'])"
   ]
  },
  {
   "cell_type": "markdown",
   "metadata": {},
   "source": [
    "#### Set up the simulated series in the wide format for clustering"
   ]
  },
  {
   "cell_type": "code",
   "execution_count": 9,
   "metadata": {},
   "outputs": [],
   "source": [
    "# TODO fix this if necessary, use the series_list above as a starting point\n",
    "## clustering wants the data in the wide format\n",
    "# n_rows = len([element for sim_list in all_series for element in sim_list])\n",
    "\n",
    "# all_series_wide = pd.DataFrame(index = range(0, n_rows), columns = ['id', 'timepoint', 'amount', 'process'])\n",
    "\n",
    "# for index in range(0, len(all_series)):\n",
    "#     all_series_wide.at[index, 'id'] = index\n",
    "#     all_series_wide.at[index, 'timepoint'] = list(range(0, len(all_series[index])))\n",
    "#     all_series_wide.at[index, 'amount'] = list(all_series[index])\n",
    "#     all_series_wide.at[index, 'process'] = "
   ]
  },
  {
   "cell_type": "code",
   "execution_count": 10,
   "metadata": {},
   "outputs": [],
   "source": [
    "# sim_series_wide.head()"
   ]
  },
  {
   "cell_type": "markdown",
   "metadata": {},
   "source": [
    "As an alternative to warped paths, I could align in time and then calculate Euclidean distance timepoint by timepoint. This would be more appropriate if the series have seasonality - perhaps. It's also possible that if the series do have seasonality, they are offset relative to each other, for example in the case where winter-related products are relevant during different parts of the year e.g. Nov vs Jan. \n",
    "\n",
    "### Cluster"
   ]
  },
  {
   "cell_type": "markdown",
   "metadata": {},
   "source": [
    "Two options: \n",
    "\n",
    "1. Use a supervised method by training a 1-NN classifier that uses DTW distances, 5-fold cross validation (based on sample size of 100) and simulated data so that the observations (time series) have labels (the process from which they were simulated eg. ARMA(1,1)). Hold out some of the simulated data to use as the test set, this represents the unlabeled \"real\" data. \n",
    "    \n",
    "    1-nn and dtw is difficult to beat for time series classification, and for a good summary of approaches taken towards time series classification including neural networks (predictive modular NNs, and a combination of HMM and ANNs) (page 83) [Mitsa et al 2010 Temporal Data Mining chapter on Temporal Classification](https://books.google.com/books?id=4P_7ydvW7cAC&pg=PA67&source=gbs_toc_r&cad=3#v=onepage&q&f=false)\n",
    "\n",
    "    A time series can be represented by a feature vector made up of the Fourier transform coefficients of the time series, and its mean, skewness, and kurtosis. This feature vector can be used as input to a clustering algorithm. \n",
    "\n",
    "    Also see [this paper](https://arxiv.org/pdf/1406.4757.pdf)\n",
    "\n",
    "2. Alternatively, use hierarchical clustering to identify groups of similar time series in an unsupervised way. The hope would be for time series generated by the same process, e.g. an ARMA(1,1) to be more similar to each other than to those generated by other processes, e.g. a MA(2). \n",
    "\n",
    "### With dtaidistance clustering "
   ]
  },
  {
   "cell_type": "code",
   "execution_count": 11,
   "metadata": {},
   "outputs": [],
   "source": [
    "from dtaidistance import clustering\n",
    "from numpy import inf"
   ]
  },
  {
   "cell_type": "code",
   "execution_count": 12,
   "metadata": {},
   "outputs": [],
   "source": [
    "# change inf to zeros\n",
    "distance_matrix[distance_matrix == inf] = 0"
   ]
  },
  {
   "cell_type": "code",
   "execution_count": 13,
   "metadata": {},
   "outputs": [
    {
     "data": {
      "text/plain": [
       "array([[ 0.        , 12.16086245, 10.92039954, ..., 16.04240468,\n",
       "         7.14807378,  7.39046031],\n",
       "       [ 0.        ,  0.        ,  4.50060845, ...,  6.27159146,\n",
       "        10.6380064 ,  8.97314216],\n",
       "       [ 0.        ,  0.        ,  0.        , ..., 10.47909758,\n",
       "         8.85618948,  7.53076423],\n",
       "       ...,\n",
       "       [ 0.        ,  0.        ,  0.        , ...,  0.        ,\n",
       "        15.5982979 , 12.89021274],\n",
       "       [ 0.        ,  0.        ,  0.        , ...,  0.        ,\n",
       "         0.        ,  4.80129295],\n",
       "       [ 0.        ,  0.        ,  0.        , ...,  0.        ,\n",
       "         0.        ,  0.        ]])"
      ]
     },
     "execution_count": 13,
     "metadata": {},
     "output_type": "execute_result"
    }
   ],
   "source": [
    "distance_matrix"
   ]
  },
  {
   "cell_type": "code",
   "execution_count": 29,
   "metadata": {},
   "outputs": [
    {
     "data": {
      "text/plain": [
       "(1400, 1400)"
      ]
     },
     "execution_count": 29,
     "metadata": {},
     "output_type": "execute_result"
    }
   ],
   "source": [
    "# expected size is square, equal to the number of unique ids\n",
    "distance_matrix.shape"
   ]
  },
  {
   "cell_type": "code",
   "execution_count": null,
   "metadata": {},
   "outputs": [],
   "source": [
    "# # computes the distance matrix first \n",
    "# model = dtaidistance.clustering.Hierarchical(dtaidistance.dtw.distance_matrix_fast, {})\n",
    "# model2 = dtaidistance.clustering.HierarchicalTree(model)\n",
    "# cluster_idx = model2.fit(distance_matrix)"
   ]
  },
  {
   "cell_type": "markdown",
   "metadata": {},
   "source": [
    "### Hierarchical clustering with sklearn"
   ]
  },
  {
   "cell_type": "code",
   "execution_count": 15,
   "metadata": {},
   "outputs": [],
   "source": [
    "from sklearn.neighbors import NearestNeighbors\n",
    "from sklearn.neighbors import DistanceMetric\n",
    "\n",
    "from sklearn.cluster import AgglomerativeClustering"
   ]
  },
  {
   "cell_type": "code",
   "execution_count": 16,
   "metadata": {
    "scrolled": true
   },
   "outputs": [
    {
     "data": {
      "text/html": [
       "<div>\n",
       "<style scoped>\n",
       "    .dataframe tbody tr th:only-of-type {\n",
       "        vertical-align: middle;\n",
       "    }\n",
       "\n",
       "    .dataframe tbody tr th {\n",
       "        vertical-align: top;\n",
       "    }\n",
       "\n",
       "    .dataframe thead th {\n",
       "        text-align: right;\n",
       "    }\n",
       "</style>\n",
       "<table border=\"1\" class=\"dataframe\">\n",
       "  <thead>\n",
       "    <tr style=\"text-align: right;\">\n",
       "      <th></th>\n",
       "      <th>id</th>\n",
       "      <th>timepoint</th>\n",
       "      <th>amount</th>\n",
       "      <th>stand_amount</th>\n",
       "      <th>process</th>\n",
       "    </tr>\n",
       "  </thead>\n",
       "  <tbody>\n",
       "    <tr>\n",
       "      <th>0</th>\n",
       "      <td>0ar1</td>\n",
       "      <td>0</td>\n",
       "      <td>-0.650442</td>\n",
       "      <td>-0.726851</td>\n",
       "      <td>ar1</td>\n",
       "    </tr>\n",
       "    <tr>\n",
       "      <th>1</th>\n",
       "      <td>0ar1</td>\n",
       "      <td>1</td>\n",
       "      <td>0.730915</td>\n",
       "      <td>0.525632</td>\n",
       "      <td>ar1</td>\n",
       "    </tr>\n",
       "    <tr>\n",
       "      <th>2</th>\n",
       "      <td>0ar1</td>\n",
       "      <td>2</td>\n",
       "      <td>1.209212</td>\n",
       "      <td>0.959306</td>\n",
       "      <td>ar1</td>\n",
       "    </tr>\n",
       "    <tr>\n",
       "      <th>3</th>\n",
       "      <td>0ar1</td>\n",
       "      <td>3</td>\n",
       "      <td>-1.572144</td>\n",
       "      <td>-1.562562</td>\n",
       "      <td>ar1</td>\n",
       "    </tr>\n",
       "    <tr>\n",
       "      <th>4</th>\n",
       "      <td>0ar1</td>\n",
       "      <td>4</td>\n",
       "      <td>0.649159</td>\n",
       "      <td>0.451504</td>\n",
       "      <td>ar1</td>\n",
       "    </tr>\n",
       "  </tbody>\n",
       "</table>\n",
       "</div>"
      ],
      "text/plain": [
       "     id  timepoint    amount  stand_amount process\n",
       "0  0ar1          0 -0.650442     -0.726851     ar1\n",
       "1  0ar1          1  0.730915      0.525632     ar1\n",
       "2  0ar1          2  1.209212      0.959306     ar1\n",
       "3  0ar1          3 -1.572144     -1.562562     ar1\n",
       "4  0ar1          4  0.649159      0.451504     ar1"
      ]
     },
     "execution_count": 16,
     "metadata": {},
     "output_type": "execute_result"
    }
   ],
   "source": [
    "standardized_series.head()"
   ]
  },
  {
   "cell_type": "code",
   "execution_count": 26,
   "metadata": {},
   "outputs": [
    {
     "name": "stdout",
     "output_type": "stream",
     "text": [
      "(142816, 5)\n",
      "14\n"
     ]
    }
   ],
   "source": [
    "print(standardized_series.shape)\n",
    "print(n_clusters)"
   ]
  },
  {
   "cell_type": "code",
   "execution_count": 28,
   "metadata": {},
   "outputs": [
    {
     "data": {
      "text/plain": [
       "arima112    11431\n",
       "arima110    10754\n",
       "arma22      10650\n",
       "arma12      10448\n",
       "arima211    10426\n",
       "arma11      10376\n",
       "arma21      10277\n",
       "arima111    10021\n",
       "ma1          9814\n",
       "ar1          9800\n",
       "ar2          9796\n",
       "arima011     9744\n",
       "ma2          9641\n",
       "arima222     9638\n",
       "Name: process, dtype: int64"
      ]
     },
     "execution_count": 28,
     "metadata": {},
     "output_type": "execute_result"
    }
   ],
   "source": [
    "standardized_series['process'].value_counts()"
   ]
  },
  {
   "cell_type": "code",
   "execution_count": 24,
   "metadata": {},
   "outputs": [],
   "source": [
    "# cluster on the distance matrix\n",
    "n_clusters = len(np.unique(list(standardized_series['process']))) # use the real number of clusters \n",
    "hclust = AgglomerativeClustering(n_clusters = n_clusters, affinity='precomputed', linkage = 'average')\n",
    "clusters = hclust.fit(distance_matrix)"
   ]
  },
  {
   "cell_type": "code",
   "execution_count": 25,
   "metadata": {},
   "outputs": [
    {
     "data": {
      "text/plain": [
       "(array([ 0,  1,  2,  3,  4,  5,  6,  7,  8,  9, 10, 11, 12, 13]),\n",
       " array([ 64,  19,  72,   3,  20, 217, 200, 217,   1,   2, 537,  14,   2,\n",
       "         32]))"
      ]
     },
     "execution_count": 25,
     "metadata": {},
     "output_type": "execute_result"
    }
   ],
   "source": [
    "# get a frequency table of the labels \n",
    "# np.bincount(clusters.labels_)\n",
    "np.unique(clusters.labels_, return_counts=True)"
   ]
  },
  {
   "cell_type": "code",
   "execution_count": 79,
   "metadata": {},
   "outputs": [],
   "source": [
    "# evaluate the clusters\n",
    "# do they separate the processes? \n",
    "\n",
    "# merge in the ids for the learned labels\n",
    "membership = pd.DataFrame({\"id\": standardized_series['id'].unique(), \"hier_cluster\": clusters.labels_})"
   ]
  },
  {
   "cell_type": "code",
   "execution_count": 93,
   "metadata": {},
   "outputs": [
    {
     "data": {
      "text/html": [
       "<div>\n",
       "<style scoped>\n",
       "    .dataframe tbody tr th:only-of-type {\n",
       "        vertical-align: middle;\n",
       "    }\n",
       "\n",
       "    .dataframe tbody tr th {\n",
       "        vertical-align: top;\n",
       "    }\n",
       "\n",
       "    .dataframe thead th {\n",
       "        text-align: right;\n",
       "    }\n",
       "</style>\n",
       "<table border=\"1\" class=\"dataframe\">\n",
       "  <thead>\n",
       "    <tr style=\"text-align: right;\">\n",
       "      <th></th>\n",
       "      <th>id</th>\n",
       "      <th>hier_cluster</th>\n",
       "    </tr>\n",
       "  </thead>\n",
       "  <tbody>\n",
       "    <tr>\n",
       "      <th>0</th>\n",
       "      <td>0ar1</td>\n",
       "      <td>2</td>\n",
       "    </tr>\n",
       "    <tr>\n",
       "      <th>1</th>\n",
       "      <td>0ar2</td>\n",
       "      <td>7</td>\n",
       "    </tr>\n",
       "    <tr>\n",
       "      <th>2</th>\n",
       "      <td>0arima011</td>\n",
       "      <td>10</td>\n",
       "    </tr>\n",
       "    <tr>\n",
       "      <th>3</th>\n",
       "      <td>0arima110</td>\n",
       "      <td>10</td>\n",
       "    </tr>\n",
       "    <tr>\n",
       "      <th>4</th>\n",
       "      <td>0arima111</td>\n",
       "      <td>10</td>\n",
       "    </tr>\n",
       "  </tbody>\n",
       "</table>\n",
       "</div>"
      ],
      "text/plain": [
       "          id  hier_cluster\n",
       "0       0ar1             2\n",
       "1       0ar2             7\n",
       "2  0arima011            10\n",
       "3  0arima110            10\n",
       "4  0arima111            10"
      ]
     },
     "execution_count": 93,
     "metadata": {},
     "output_type": "execute_result"
    }
   ],
   "source": [
    "membership.head()"
   ]
  },
  {
   "cell_type": "code",
   "execution_count": 94,
   "metadata": {},
   "outputs": [],
   "source": [
    "# merge with the actual process labels to evaluate\n",
    "standardized_series = standardized_series.merge(membership, left_on=\"id\", right_on=\"id\")"
   ]
  },
  {
   "cell_type": "code",
   "execution_count": 122,
   "metadata": {},
   "outputs": [
    {
     "data": {
      "text/html": [
       "<div>\n",
       "<style scoped>\n",
       "    .dataframe tbody tr th:only-of-type {\n",
       "        vertical-align: middle;\n",
       "    }\n",
       "\n",
       "    .dataframe tbody tr th {\n",
       "        vertical-align: top;\n",
       "    }\n",
       "\n",
       "    .dataframe thead th {\n",
       "        text-align: right;\n",
       "    }\n",
       "</style>\n",
       "<table border=\"1\" class=\"dataframe\">\n",
       "  <thead>\n",
       "    <tr style=\"text-align: right;\">\n",
       "      <th></th>\n",
       "      <th>id</th>\n",
       "      <th>timepoint</th>\n",
       "      <th>amount</th>\n",
       "      <th>stand_amount</th>\n",
       "      <th>process</th>\n",
       "      <th>hier_cluster</th>\n",
       "    </tr>\n",
       "  </thead>\n",
       "  <tbody>\n",
       "    <tr>\n",
       "      <th>0</th>\n",
       "      <td>0ar1</td>\n",
       "      <td>0</td>\n",
       "      <td>-0.650442</td>\n",
       "      <td>-0.726851</td>\n",
       "      <td>ar1</td>\n",
       "      <td>2</td>\n",
       "    </tr>\n",
       "    <tr>\n",
       "      <th>1</th>\n",
       "      <td>0ar1</td>\n",
       "      <td>1</td>\n",
       "      <td>0.730915</td>\n",
       "      <td>0.525632</td>\n",
       "      <td>ar1</td>\n",
       "      <td>2</td>\n",
       "    </tr>\n",
       "    <tr>\n",
       "      <th>2</th>\n",
       "      <td>0ar1</td>\n",
       "      <td>2</td>\n",
       "      <td>1.209212</td>\n",
       "      <td>0.959306</td>\n",
       "      <td>ar1</td>\n",
       "      <td>2</td>\n",
       "    </tr>\n",
       "    <tr>\n",
       "      <th>3</th>\n",
       "      <td>0ar1</td>\n",
       "      <td>3</td>\n",
       "      <td>-1.572144</td>\n",
       "      <td>-1.562562</td>\n",
       "      <td>ar1</td>\n",
       "      <td>2</td>\n",
       "    </tr>\n",
       "    <tr>\n",
       "      <th>4</th>\n",
       "      <td>0ar1</td>\n",
       "      <td>4</td>\n",
       "      <td>0.649159</td>\n",
       "      <td>0.451504</td>\n",
       "      <td>ar1</td>\n",
       "      <td>2</td>\n",
       "    </tr>\n",
       "  </tbody>\n",
       "</table>\n",
       "</div>"
      ],
      "text/plain": [
       "     id  timepoint    amount  stand_amount process  hier_cluster\n",
       "0  0ar1          0 -0.650442     -0.726851     ar1             2\n",
       "1  0ar1          1  0.730915      0.525632     ar1             2\n",
       "2  0ar1          2  1.209212      0.959306     ar1             2\n",
       "3  0ar1          3 -1.572144     -1.562562     ar1             2\n",
       "4  0ar1          4  0.649159      0.451504     ar1             2"
      ]
     },
     "execution_count": 122,
     "metadata": {},
     "output_type": "execute_result"
    }
   ],
   "source": [
    "standardized_series.head()"
   ]
  },
  {
   "cell_type": "code",
   "execution_count": 123,
   "metadata": {},
   "outputs": [],
   "source": [
    "# drop the length of the series, keep just one record per time series\n",
    "# to compare real label with learned label\n",
    "per_id = standardized_series[standardized_series['timepoint'] == 0]"
   ]
  },
  {
   "cell_type": "code",
   "execution_count": 125,
   "metadata": {},
   "outputs": [],
   "source": [
    "per_id = per_id.drop(['timepoint', 'amount', 'stand_amount'], axis = 1)"
   ]
  },
  {
   "cell_type": "code",
   "execution_count": 126,
   "metadata": {},
   "outputs": [
    {
     "data": {
      "text/html": [
       "<div>\n",
       "<style scoped>\n",
       "    .dataframe tbody tr th:only-of-type {\n",
       "        vertical-align: middle;\n",
       "    }\n",
       "\n",
       "    .dataframe tbody tr th {\n",
       "        vertical-align: top;\n",
       "    }\n",
       "\n",
       "    .dataframe thead th {\n",
       "        text-align: right;\n",
       "    }\n",
       "</style>\n",
       "<table border=\"1\" class=\"dataframe\">\n",
       "  <thead>\n",
       "    <tr style=\"text-align: right;\">\n",
       "      <th></th>\n",
       "      <th>id</th>\n",
       "      <th>process</th>\n",
       "      <th>hier_cluster</th>\n",
       "    </tr>\n",
       "  </thead>\n",
       "  <tbody>\n",
       "    <tr>\n",
       "      <th>0</th>\n",
       "      <td>0ar1</td>\n",
       "      <td>ar1</td>\n",
       "      <td>2</td>\n",
       "    </tr>\n",
       "    <tr>\n",
       "      <th>117</th>\n",
       "      <td>0ar2</td>\n",
       "      <td>ar2</td>\n",
       "      <td>7</td>\n",
       "    </tr>\n",
       "    <tr>\n",
       "      <th>159</th>\n",
       "      <td>0arima011</td>\n",
       "      <td>arima011</td>\n",
       "      <td>10</td>\n",
       "    </tr>\n",
       "    <tr>\n",
       "      <th>249</th>\n",
       "      <td>0arima110</td>\n",
       "      <td>arima110</td>\n",
       "      <td>10</td>\n",
       "    </tr>\n",
       "    <tr>\n",
       "      <th>375</th>\n",
       "      <td>0arima111</td>\n",
       "      <td>arima111</td>\n",
       "      <td>10</td>\n",
       "    </tr>\n",
       "  </tbody>\n",
       "</table>\n",
       "</div>"
      ],
      "text/plain": [
       "            id   process  hier_cluster\n",
       "0         0ar1       ar1             2\n",
       "117       0ar2       ar2             7\n",
       "159  0arima011  arima011            10\n",
       "249  0arima110  arima110            10\n",
       "375  0arima111  arima111            10"
      ]
     },
     "execution_count": 126,
     "metadata": {},
     "output_type": "execute_result"
    }
   ],
   "source": [
    "per_id.head()"
   ]
  },
  {
   "cell_type": "code",
   "execution_count": 178,
   "metadata": {},
   "outputs": [],
   "source": [
    "# count how many distinct ids have each (actual process & learned process) pair\n",
    "results = per_id.groupby(['process', 'hier_cluster']).count()"
   ]
  },
  {
   "cell_type": "code",
   "execution_count": 179,
   "metadata": {},
   "outputs": [],
   "source": [
    "results = pd.DataFrame(results).reset_index()"
   ]
  },
  {
   "cell_type": "code",
   "execution_count": 180,
   "metadata": {},
   "outputs": [
    {
     "data": {
      "text/html": [
       "<div>\n",
       "<style scoped>\n",
       "    .dataframe tbody tr th:only-of-type {\n",
       "        vertical-align: middle;\n",
       "    }\n",
       "\n",
       "    .dataframe tbody tr th {\n",
       "        vertical-align: top;\n",
       "    }\n",
       "\n",
       "    .dataframe thead th {\n",
       "        text-align: right;\n",
       "    }\n",
       "</style>\n",
       "<table border=\"1\" class=\"dataframe\">\n",
       "  <thead>\n",
       "    <tr style=\"text-align: right;\">\n",
       "      <th></th>\n",
       "      <th>process</th>\n",
       "      <th>hier_cluster</th>\n",
       "      <th>count</th>\n",
       "    </tr>\n",
       "  </thead>\n",
       "  <tbody>\n",
       "    <tr>\n",
       "      <th>0</th>\n",
       "      <td>ar1</td>\n",
       "      <td>0</td>\n",
       "      <td>10</td>\n",
       "    </tr>\n",
       "    <tr>\n",
       "      <th>1</th>\n",
       "      <td>ar1</td>\n",
       "      <td>2</td>\n",
       "      <td>14</td>\n",
       "    </tr>\n",
       "    <tr>\n",
       "      <th>2</th>\n",
       "      <td>ar1</td>\n",
       "      <td>4</td>\n",
       "      <td>1</td>\n",
       "    </tr>\n",
       "    <tr>\n",
       "      <th>3</th>\n",
       "      <td>ar1</td>\n",
       "      <td>5</td>\n",
       "      <td>33</td>\n",
       "    </tr>\n",
       "    <tr>\n",
       "      <th>4</th>\n",
       "      <td>ar1</td>\n",
       "      <td>6</td>\n",
       "      <td>33</td>\n",
       "    </tr>\n",
       "  </tbody>\n",
       "</table>\n",
       "</div>"
      ],
      "text/plain": [
       "  process  hier_cluster  count\n",
       "0     ar1             0     10\n",
       "1     ar1             2     14\n",
       "2     ar1             4      1\n",
       "3     ar1             5     33\n",
       "4     ar1             6     33"
      ]
     },
     "execution_count": 180,
     "metadata": {},
     "output_type": "execute_result"
    }
   ],
   "source": [
    "# the column id now shows the count of time series that were in class \"process\" (true label) \n",
    "# and clustered into \"hier_cluster\" (learned label)\n",
    "results = results.rename(columns = {'id': 'count'})\n",
    "results.head()"
   ]
  },
  {
   "cell_type": "code",
   "execution_count": 181,
   "metadata": {},
   "outputs": [
    {
     "data": {
      "text/html": [
       "<div>\n",
       "<style scoped>\n",
       "    .dataframe tbody tr th:only-of-type {\n",
       "        vertical-align: middle;\n",
       "    }\n",
       "\n",
       "    .dataframe tbody tr th {\n",
       "        vertical-align: top;\n",
       "    }\n",
       "\n",
       "    .dataframe thead th {\n",
       "        text-align: right;\n",
       "    }\n",
       "</style>\n",
       "<table border=\"1\" class=\"dataframe\">\n",
       "  <thead>\n",
       "    <tr style=\"text-align: right;\">\n",
       "      <th>hier_cluster</th>\n",
       "      <th>0</th>\n",
       "      <th>1</th>\n",
       "      <th>2</th>\n",
       "      <th>3</th>\n",
       "      <th>4</th>\n",
       "      <th>5</th>\n",
       "      <th>6</th>\n",
       "      <th>7</th>\n",
       "      <th>8</th>\n",
       "      <th>9</th>\n",
       "      <th>10</th>\n",
       "      <th>11</th>\n",
       "      <th>12</th>\n",
       "      <th>13</th>\n",
       "    </tr>\n",
       "    <tr>\n",
       "      <th>process</th>\n",
       "      <th></th>\n",
       "      <th></th>\n",
       "      <th></th>\n",
       "      <th></th>\n",
       "      <th></th>\n",
       "      <th></th>\n",
       "      <th></th>\n",
       "      <th></th>\n",
       "      <th></th>\n",
       "      <th></th>\n",
       "      <th></th>\n",
       "      <th></th>\n",
       "      <th></th>\n",
       "      <th></th>\n",
       "    </tr>\n",
       "  </thead>\n",
       "  <tbody>\n",
       "    <tr>\n",
       "      <th>ar1</th>\n",
       "      <td>10.0</td>\n",
       "      <td>NaN</td>\n",
       "      <td>14.0</td>\n",
       "      <td>NaN</td>\n",
       "      <td>1.0</td>\n",
       "      <td>33.0</td>\n",
       "      <td>33.0</td>\n",
       "      <td>NaN</td>\n",
       "      <td>NaN</td>\n",
       "      <td>NaN</td>\n",
       "      <td>1.0</td>\n",
       "      <td>5.0</td>\n",
       "      <td>NaN</td>\n",
       "      <td>3.0</td>\n",
       "    </tr>\n",
       "    <tr>\n",
       "      <th>ar2</th>\n",
       "      <td>3.0</td>\n",
       "      <td>6.0</td>\n",
       "      <td>3.0</td>\n",
       "      <td>NaN</td>\n",
       "      <td>NaN</td>\n",
       "      <td>11.0</td>\n",
       "      <td>16.0</td>\n",
       "      <td>45.0</td>\n",
       "      <td>NaN</td>\n",
       "      <td>2.0</td>\n",
       "      <td>10.0</td>\n",
       "      <td>3.0</td>\n",
       "      <td>1.0</td>\n",
       "      <td>NaN</td>\n",
       "    </tr>\n",
       "    <tr>\n",
       "      <th>arima011</th>\n",
       "      <td>NaN</td>\n",
       "      <td>NaN</td>\n",
       "      <td>NaN</td>\n",
       "      <td>NaN</td>\n",
       "      <td>NaN</td>\n",
       "      <td>NaN</td>\n",
       "      <td>NaN</td>\n",
       "      <td>NaN</td>\n",
       "      <td>NaN</td>\n",
       "      <td>NaN</td>\n",
       "      <td>100.0</td>\n",
       "      <td>NaN</td>\n",
       "      <td>NaN</td>\n",
       "      <td>NaN</td>\n",
       "    </tr>\n",
       "    <tr>\n",
       "      <th>arima110</th>\n",
       "      <td>NaN</td>\n",
       "      <td>NaN</td>\n",
       "      <td>NaN</td>\n",
       "      <td>NaN</td>\n",
       "      <td>NaN</td>\n",
       "      <td>NaN</td>\n",
       "      <td>NaN</td>\n",
       "      <td>NaN</td>\n",
       "      <td>NaN</td>\n",
       "      <td>NaN</td>\n",
       "      <td>100.0</td>\n",
       "      <td>NaN</td>\n",
       "      <td>NaN</td>\n",
       "      <td>NaN</td>\n",
       "    </tr>\n",
       "    <tr>\n",
       "      <th>arima111</th>\n",
       "      <td>NaN</td>\n",
       "      <td>NaN</td>\n",
       "      <td>NaN</td>\n",
       "      <td>NaN</td>\n",
       "      <td>NaN</td>\n",
       "      <td>NaN</td>\n",
       "      <td>NaN</td>\n",
       "      <td>NaN</td>\n",
       "      <td>NaN</td>\n",
       "      <td>NaN</td>\n",
       "      <td>100.0</td>\n",
       "      <td>NaN</td>\n",
       "      <td>NaN</td>\n",
       "      <td>NaN</td>\n",
       "    </tr>\n",
       "  </tbody>\n",
       "</table>\n",
       "</div>"
      ],
      "text/plain": [
       "hier_cluster    0    1     2   3    4     5     6     7   8    9      10   11  \\\n",
       "process                                                                         \n",
       "ar1           10.0  NaN  14.0 NaN  1.0  33.0  33.0   NaN NaN  NaN    1.0  5.0   \n",
       "ar2            3.0  6.0   3.0 NaN  NaN  11.0  16.0  45.0 NaN  2.0   10.0  3.0   \n",
       "arima011       NaN  NaN   NaN NaN  NaN   NaN   NaN   NaN NaN  NaN  100.0  NaN   \n",
       "arima110       NaN  NaN   NaN NaN  NaN   NaN   NaN   NaN NaN  NaN  100.0  NaN   \n",
       "arima111       NaN  NaN   NaN NaN  NaN   NaN   NaN   NaN NaN  NaN  100.0  NaN   \n",
       "\n",
       "hier_cluster   12   13  \n",
       "process                 \n",
       "ar1           NaN  3.0  \n",
       "ar2           1.0  NaN  \n",
       "arima011      NaN  NaN  \n",
       "arima110      NaN  NaN  \n",
       "arima111      NaN  NaN  "
      ]
     },
     "execution_count": 181,
     "metadata": {},
     "output_type": "execute_result"
    }
   ],
   "source": [
    "# reshape so that all processes have all clusters represented in the dataframe, even if the counts are zero\n",
    "results = results.pivot(index='process', columns='hier_cluster', values='count')\n",
    "results.head()"
   ]
  },
  {
   "cell_type": "code",
   "execution_count": 183,
   "metadata": {},
   "outputs": [
    {
     "data": {
      "text/html": [
       "<div>\n",
       "<style scoped>\n",
       "    .dataframe tbody tr th:only-of-type {\n",
       "        vertical-align: middle;\n",
       "    }\n",
       "\n",
       "    .dataframe tbody tr th {\n",
       "        vertical-align: top;\n",
       "    }\n",
       "\n",
       "    .dataframe thead th {\n",
       "        text-align: right;\n",
       "    }\n",
       "</style>\n",
       "<table border=\"1\" class=\"dataframe\">\n",
       "  <thead>\n",
       "    <tr style=\"text-align: right;\">\n",
       "      <th>hier_cluster</th>\n",
       "      <th>0</th>\n",
       "      <th>1</th>\n",
       "      <th>2</th>\n",
       "      <th>3</th>\n",
       "      <th>4</th>\n",
       "      <th>5</th>\n",
       "      <th>6</th>\n",
       "      <th>7</th>\n",
       "      <th>8</th>\n",
       "      <th>9</th>\n",
       "      <th>10</th>\n",
       "      <th>11</th>\n",
       "      <th>12</th>\n",
       "      <th>13</th>\n",
       "    </tr>\n",
       "    <tr>\n",
       "      <th>process</th>\n",
       "      <th></th>\n",
       "      <th></th>\n",
       "      <th></th>\n",
       "      <th></th>\n",
       "      <th></th>\n",
       "      <th></th>\n",
       "      <th></th>\n",
       "      <th></th>\n",
       "      <th></th>\n",
       "      <th></th>\n",
       "      <th></th>\n",
       "      <th></th>\n",
       "      <th></th>\n",
       "      <th></th>\n",
       "    </tr>\n",
       "  </thead>\n",
       "  <tbody>\n",
       "    <tr>\n",
       "      <th>ar1</th>\n",
       "      <td>10.0</td>\n",
       "      <td>0.0</td>\n",
       "      <td>14.0</td>\n",
       "      <td>0.0</td>\n",
       "      <td>1.0</td>\n",
       "      <td>33.0</td>\n",
       "      <td>33.0</td>\n",
       "      <td>0.0</td>\n",
       "      <td>0.0</td>\n",
       "      <td>0.0</td>\n",
       "      <td>1.0</td>\n",
       "      <td>5.0</td>\n",
       "      <td>0.0</td>\n",
       "      <td>3.0</td>\n",
       "    </tr>\n",
       "    <tr>\n",
       "      <th>ar2</th>\n",
       "      <td>3.0</td>\n",
       "      <td>6.0</td>\n",
       "      <td>3.0</td>\n",
       "      <td>0.0</td>\n",
       "      <td>0.0</td>\n",
       "      <td>11.0</td>\n",
       "      <td>16.0</td>\n",
       "      <td>45.0</td>\n",
       "      <td>0.0</td>\n",
       "      <td>2.0</td>\n",
       "      <td>10.0</td>\n",
       "      <td>3.0</td>\n",
       "      <td>1.0</td>\n",
       "      <td>0.0</td>\n",
       "    </tr>\n",
       "    <tr>\n",
       "      <th>arima011</th>\n",
       "      <td>0.0</td>\n",
       "      <td>0.0</td>\n",
       "      <td>0.0</td>\n",
       "      <td>0.0</td>\n",
       "      <td>0.0</td>\n",
       "      <td>0.0</td>\n",
       "      <td>0.0</td>\n",
       "      <td>0.0</td>\n",
       "      <td>0.0</td>\n",
       "      <td>0.0</td>\n",
       "      <td>100.0</td>\n",
       "      <td>0.0</td>\n",
       "      <td>0.0</td>\n",
       "      <td>0.0</td>\n",
       "    </tr>\n",
       "    <tr>\n",
       "      <th>arima110</th>\n",
       "      <td>0.0</td>\n",
       "      <td>0.0</td>\n",
       "      <td>0.0</td>\n",
       "      <td>0.0</td>\n",
       "      <td>0.0</td>\n",
       "      <td>0.0</td>\n",
       "      <td>0.0</td>\n",
       "      <td>0.0</td>\n",
       "      <td>0.0</td>\n",
       "      <td>0.0</td>\n",
       "      <td>100.0</td>\n",
       "      <td>0.0</td>\n",
       "      <td>0.0</td>\n",
       "      <td>0.0</td>\n",
       "    </tr>\n",
       "    <tr>\n",
       "      <th>arima111</th>\n",
       "      <td>0.0</td>\n",
       "      <td>0.0</td>\n",
       "      <td>0.0</td>\n",
       "      <td>0.0</td>\n",
       "      <td>0.0</td>\n",
       "      <td>0.0</td>\n",
       "      <td>0.0</td>\n",
       "      <td>0.0</td>\n",
       "      <td>0.0</td>\n",
       "      <td>0.0</td>\n",
       "      <td>100.0</td>\n",
       "      <td>0.0</td>\n",
       "      <td>0.0</td>\n",
       "      <td>0.0</td>\n",
       "    </tr>\n",
       "    <tr>\n",
       "      <th>arima112</th>\n",
       "      <td>0.0</td>\n",
       "      <td>0.0</td>\n",
       "      <td>0.0</td>\n",
       "      <td>0.0</td>\n",
       "      <td>0.0</td>\n",
       "      <td>0.0</td>\n",
       "      <td>0.0</td>\n",
       "      <td>0.0</td>\n",
       "      <td>0.0</td>\n",
       "      <td>0.0</td>\n",
       "      <td>100.0</td>\n",
       "      <td>0.0</td>\n",
       "      <td>0.0</td>\n",
       "      <td>0.0</td>\n",
       "    </tr>\n",
       "    <tr>\n",
       "      <th>arima211</th>\n",
       "      <td>0.0</td>\n",
       "      <td>0.0</td>\n",
       "      <td>0.0</td>\n",
       "      <td>0.0</td>\n",
       "      <td>0.0</td>\n",
       "      <td>0.0</td>\n",
       "      <td>0.0</td>\n",
       "      <td>53.0</td>\n",
       "      <td>0.0</td>\n",
       "      <td>0.0</td>\n",
       "      <td>47.0</td>\n",
       "      <td>0.0</td>\n",
       "      <td>0.0</td>\n",
       "      <td>0.0</td>\n",
       "    </tr>\n",
       "    <tr>\n",
       "      <th>arima222</th>\n",
       "      <td>0.0</td>\n",
       "      <td>0.0</td>\n",
       "      <td>0.0</td>\n",
       "      <td>0.0</td>\n",
       "      <td>0.0</td>\n",
       "      <td>0.0</td>\n",
       "      <td>0.0</td>\n",
       "      <td>47.0</td>\n",
       "      <td>0.0</td>\n",
       "      <td>0.0</td>\n",
       "      <td>53.0</td>\n",
       "      <td>0.0</td>\n",
       "      <td>0.0</td>\n",
       "      <td>0.0</td>\n",
       "    </tr>\n",
       "    <tr>\n",
       "      <th>arma11</th>\n",
       "      <td>11.0</td>\n",
       "      <td>0.0</td>\n",
       "      <td>12.0</td>\n",
       "      <td>0.0</td>\n",
       "      <td>4.0</td>\n",
       "      <td>40.0</td>\n",
       "      <td>25.0</td>\n",
       "      <td>0.0</td>\n",
       "      <td>0.0</td>\n",
       "      <td>0.0</td>\n",
       "      <td>1.0</td>\n",
       "      <td>1.0</td>\n",
       "      <td>0.0</td>\n",
       "      <td>6.0</td>\n",
       "    </tr>\n",
       "    <tr>\n",
       "      <th>arma12</th>\n",
       "      <td>6.0</td>\n",
       "      <td>0.0</td>\n",
       "      <td>5.0</td>\n",
       "      <td>0.0</td>\n",
       "      <td>8.0</td>\n",
       "      <td>42.0</td>\n",
       "      <td>26.0</td>\n",
       "      <td>0.0</td>\n",
       "      <td>1.0</td>\n",
       "      <td>0.0</td>\n",
       "      <td>1.0</td>\n",
       "      <td>0.0</td>\n",
       "      <td>0.0</td>\n",
       "      <td>11.0</td>\n",
       "    </tr>\n",
       "    <tr>\n",
       "      <th>arma21</th>\n",
       "      <td>2.0</td>\n",
       "      <td>0.0</td>\n",
       "      <td>3.0</td>\n",
       "      <td>0.0</td>\n",
       "      <td>0.0</td>\n",
       "      <td>17.0</td>\n",
       "      <td>17.0</td>\n",
       "      <td>40.0</td>\n",
       "      <td>0.0</td>\n",
       "      <td>0.0</td>\n",
       "      <td>12.0</td>\n",
       "      <td>3.0</td>\n",
       "      <td>1.0</td>\n",
       "      <td>5.0</td>\n",
       "    </tr>\n",
       "    <tr>\n",
       "      <th>arma22</th>\n",
       "      <td>2.0</td>\n",
       "      <td>0.0</td>\n",
       "      <td>0.0</td>\n",
       "      <td>1.0</td>\n",
       "      <td>5.0</td>\n",
       "      <td>23.0</td>\n",
       "      <td>18.0</td>\n",
       "      <td>32.0</td>\n",
       "      <td>0.0</td>\n",
       "      <td>0.0</td>\n",
       "      <td>12.0</td>\n",
       "      <td>0.0</td>\n",
       "      <td>0.0</td>\n",
       "      <td>7.0</td>\n",
       "    </tr>\n",
       "    <tr>\n",
       "      <th>ma1</th>\n",
       "      <td>16.0</td>\n",
       "      <td>0.0</td>\n",
       "      <td>26.0</td>\n",
       "      <td>0.0</td>\n",
       "      <td>0.0</td>\n",
       "      <td>28.0</td>\n",
       "      <td>28.0</td>\n",
       "      <td>0.0</td>\n",
       "      <td>0.0</td>\n",
       "      <td>0.0</td>\n",
       "      <td>0.0</td>\n",
       "      <td>2.0</td>\n",
       "      <td>0.0</td>\n",
       "      <td>0.0</td>\n",
       "    </tr>\n",
       "    <tr>\n",
       "      <th>ma2</th>\n",
       "      <td>14.0</td>\n",
       "      <td>13.0</td>\n",
       "      <td>9.0</td>\n",
       "      <td>2.0</td>\n",
       "      <td>2.0</td>\n",
       "      <td>23.0</td>\n",
       "      <td>37.0</td>\n",
       "      <td>0.0</td>\n",
       "      <td>0.0</td>\n",
       "      <td>0.0</td>\n",
       "      <td>0.0</td>\n",
       "      <td>0.0</td>\n",
       "      <td>0.0</td>\n",
       "      <td>0.0</td>\n",
       "    </tr>\n",
       "  </tbody>\n",
       "</table>\n",
       "</div>"
      ],
      "text/plain": [
       "hier_cluster    0     1     2    3    4     5     6     7    8    9      10  \\\n",
       "process                                                                       \n",
       "ar1           10.0   0.0  14.0  0.0  1.0  33.0  33.0   0.0  0.0  0.0    1.0   \n",
       "ar2            3.0   6.0   3.0  0.0  0.0  11.0  16.0  45.0  0.0  2.0   10.0   \n",
       "arima011       0.0   0.0   0.0  0.0  0.0   0.0   0.0   0.0  0.0  0.0  100.0   \n",
       "arima110       0.0   0.0   0.0  0.0  0.0   0.0   0.0   0.0  0.0  0.0  100.0   \n",
       "arima111       0.0   0.0   0.0  0.0  0.0   0.0   0.0   0.0  0.0  0.0  100.0   \n",
       "arima112       0.0   0.0   0.0  0.0  0.0   0.0   0.0   0.0  0.0  0.0  100.0   \n",
       "arima211       0.0   0.0   0.0  0.0  0.0   0.0   0.0  53.0  0.0  0.0   47.0   \n",
       "arima222       0.0   0.0   0.0  0.0  0.0   0.0   0.0  47.0  0.0  0.0   53.0   \n",
       "arma11        11.0   0.0  12.0  0.0  4.0  40.0  25.0   0.0  0.0  0.0    1.0   \n",
       "arma12         6.0   0.0   5.0  0.0  8.0  42.0  26.0   0.0  1.0  0.0    1.0   \n",
       "arma21         2.0   0.0   3.0  0.0  0.0  17.0  17.0  40.0  0.0  0.0   12.0   \n",
       "arma22         2.0   0.0   0.0  1.0  5.0  23.0  18.0  32.0  0.0  0.0   12.0   \n",
       "ma1           16.0   0.0  26.0  0.0  0.0  28.0  28.0   0.0  0.0  0.0    0.0   \n",
       "ma2           14.0  13.0   9.0  2.0  2.0  23.0  37.0   0.0  0.0  0.0    0.0   \n",
       "\n",
       "hier_cluster   11   12    13  \n",
       "process                       \n",
       "ar1           5.0  0.0   3.0  \n",
       "ar2           3.0  1.0   0.0  \n",
       "arima011      0.0  0.0   0.0  \n",
       "arima110      0.0  0.0   0.0  \n",
       "arima111      0.0  0.0   0.0  \n",
       "arima112      0.0  0.0   0.0  \n",
       "arima211      0.0  0.0   0.0  \n",
       "arima222      0.0  0.0   0.0  \n",
       "arma11        1.0  0.0   6.0  \n",
       "arma12        0.0  0.0  11.0  \n",
       "arma21        3.0  1.0   5.0  \n",
       "arma22        0.0  0.0   7.0  \n",
       "ma1           2.0  0.0   0.0  \n",
       "ma2           0.0  0.0   0.0  "
      ]
     },
     "execution_count": 183,
     "metadata": {},
     "output_type": "execute_result"
    }
   ],
   "source": [
    "results = results.fillna(0)\n",
    "results"
   ]
  },
  {
   "cell_type": "markdown",
   "metadata": {},
   "source": [
    "Interpretation of this table: \n",
    "10 time series were (generated as ar1 processes) AND (clustered into cluster 0). \n",
    "etc. "
   ]
  },
  {
   "cell_type": "code",
   "execution_count": 197,
   "metadata": {},
   "outputs": [],
   "source": [
    "# for each actual process, plot the distribution across the learned processes\n",
    "def plot_cluster(process_name):\n",
    "    plot1 = plt.bar(results.columns, results.loc[process_name])\n",
    "    plt.title(process_name + '\\n(total count = 100)')\n",
    "    plt.xlabel('Cluster')\n",
    "    plt.ylabel('Count')\n",
    "    plt.ylim(0, 100)"
   ]
  },
  {
   "cell_type": "code",
   "execution_count": 198,
   "metadata": {},
   "outputs": [
    {
     "data": {
      "image/png": "[encoded data removed]",
      "text/plain": [
       "<Figure size 432x288 with 1 Axes>"
      ]
     },
     "metadata": {
      "needs_background": "light"
     },
     "output_type": "display_data"
    },
    {
     "data": {
      "image/png": "[encoded data removed]",
      "text/plain": [
       "<Figure size 432x288 with 1 Axes>"
      ]
     },
     "metadata": {
      "needs_background": "light"
     },
     "output_type": "display_data"
    },
    {
     "data": {
      "image/png": "[encoded data removed]",
      "text/plain": [
       "<Figure size 432x288 with 1 Axes>"
      ]
     },
     "metadata": {
      "needs_background": "light"
     },
     "output_type": "display_data"
    },
    {
     "data": {
      "image/png": "[encoded data removed]",
      "text/plain": [
       "<Figure size 432x288 with 1 Axes>"
      ]
     },
     "metadata": {
      "needs_background": "light"
     },
     "output_type": "display_data"
    },
    {
     "data": {
      "image/png": "[encoded data removed]",
      "text/plain": [
       "<Figure size 432x288 with 1 Axes>"
      ]
     },
     "metadata": {
      "needs_background": "light"
     },
     "output_type": "display_data"
    },
    {
     "data": {
      "image/png": "[encoded data removed]",
      "text/plain": [
       "<Figure size 432x288 with 1 Axes>"
      ]
     },
     "metadata": {
      "needs_background": "light"
     },
     "output_type": "display_data"
    },
    {
     "data": {
      "image/png": "[encoded data removed]",
      "text/plain": [
       "<Figure size 432x288 with 1 Axes>"
      ]
     },
     "metadata": {
      "needs_background": "light"
     },
     "output_type": "display_data"
    },
    {
     "data": {
      "image/png": "[encoded data removed]",
      "text/plain": [
       "<Figure size 432x288 with 1 Axes>"
      ]
     },
     "metadata": {
      "needs_background": "light"
     },
     "output_type": "display_data"
    },
    {
     "data": {
      "image/png": "[encoded data removed]",
      "text/plain": [
       "<Figure size 432x288 with 1 Axes>"
      ]
     },
     "metadata": {
      "needs_background": "light"
     },
     "output_type": "display_data"
    },
    {
     "data": {
      "image/png": "[encoded data removed]",
      "text/plain": [
       "<Figure size 432x288 with 1 Axes>"
      ]
     },
     "metadata": {
      "needs_background": "light"
     },
     "output_type": "display_data"
    },
    {
     "data": {
      "image/png": "[encoded data removed]",
      "text/plain": [
       "<Figure size 432x288 with 1 Axes>"
      ]
     },
     "metadata": {
      "needs_background": "light"
     },
     "output_type": "display_data"
    },
    {
     "data": {
      "image/png": "[encoded data removed]",
      "text/plain": [
       "<Figure size 432x288 with 1 Axes>"
      ]
     },
     "metadata": {
      "needs_background": "light"
     },
     "output_type": "display_data"
    },
    {
     "data": {
      "image/png": "[encoded data removed]",
      "text/plain": [
       "<Figure size 432x288 with 1 Axes>"
      ]
     },
     "metadata": {
      "needs_background": "light"
     },
     "output_type": "display_data"
    },
    {
     "data": {
      "image/png": "[encoded data removed]",
      "text/plain": [
       "<Figure size 432x288 with 1 Axes>"
      ]
     },
     "metadata": {
      "needs_background": "light"
     },
     "output_type": "display_data"
    }
   ],
   "source": [
    "for index, process in enumerate(results.index):\n",
    "    plt.figure(index)\n",
    "    plot_cluster(process)"
   ]
  },
  {
   "cell_type": "code",
   "execution_count": null,
   "metadata": {},
   "outputs": [],
   "source": [
    "import numpy as np\n",
    "import matplotlib.pyplot as plt\n",
    "\n",
    "\n",
    "N = 5\n",
    "menMeans = (20, 35, 30, 35, 27)\n",
    "womenMeans = (25, 32, 34, 20, 25)\n",
    "menStd = (2, 3, 4, 1, 2)\n",
    "womenStd = (3, 5, 2, 3, 3)\n",
    "ind = np.arange(N)    # the x locations for the groups\n",
    "width = 0.35       # the width of the bars: can also be len(x) sequence\n",
    "\n",
    "p1 = plt.bar(ind, menMeans, width, yerr=menStd)\n",
    "p2 = plt.bar(ind, womenMeans, width,\n",
    "             bottom=menMeans, yerr=womenStd)\n",
    "\n",
    "plt.ylabel('Scores')\n",
    "plt.title('Scores by group and gender')\n",
    "plt.xticks(ind, ('G1', 'G2', 'G3', 'G4', 'G5'))\n",
    "plt.yticks(np.arange(0, 81, 10))\n",
    "plt.legend((p1[0], p2[0]), ('Men', 'Women'))\n",
    "\n",
    "plt.show()\n"
   ]
  },
  {
   "cell_type": "code",
   "execution_count": null,
   "metadata": {},
   "outputs": [],
   "source": [
    "# with scipy\n",
    "scipy_hclust = linkage(pairwise_dtw, 'average')\n",
    "fig = plt.figure(figsize=(25, 10))\n",
    "dendro = dendrogram(hclust)"
   ]
  },
  {
   "cell_type": "code",
   "execution_count": null,
   "metadata": {},
   "outputs": [],
   "source": [
    "scipy_hclust # what do these represent?"
   ]
  },
  {
   "cell_type": "code",
   "execution_count": null,
   "metadata": {},
   "outputs": [],
   "source": [
    "# get cluster labels\n",
    "results = dendrogram(scipy_hclust, \n",
    "                    truncate_mode = 'lastp',  # show only the last p merged clusters\n",
    "                    p = 4, # show only the last 4 merged clusters \n",
    "                    no_plot = True) # returns the dictionary that contains the labels instead of the plot"
   ]
  },
  {
   "cell_type": "code",
   "execution_count": null,
   "metadata": {},
   "outputs": [],
   "source": [
    "results"
   ]
  },
  {
   "cell_type": "code",
   "execution_count": null,
   "metadata": {},
   "outputs": [],
   "source": [
    "fcluster(hclust, criterion='distance') # get cluster labels"
   ]
  },
  {
   "cell_type": "code",
   "execution_count": null,
   "metadata": {},
   "outputs": [],
   "source": [
    "# try to decompose the series and cluster only the trend components in an attempt to reduce the noise?\n",
    "# or go with the supervised classification approach \n",
    "# or ARMA processes are too similar to each other to tease apart the p and q parameters based on the geometry of the series - add ARCH/GARCH processes to the mix to see"
   ]
  },
  {
   "cell_type": "code",
   "execution_count": null,
   "metadata": {},
   "outputs": [],
   "source": [
    "# # use custom distance metric\n",
    "# dtw_metric = DistanceMetric.get_metric('pyfunc', func = fastdtw(dist = 1))\n",
    "# # 1-NN\n",
    "# knn = NearestNeighbors(n_neighbors = 1, radius = 0.5)#, metric = dtw_metric)\n",
    "# knn.fit(sim_series)\n"
   ]
  },
  {
   "cell_type": "code",
   "execution_count": null,
   "metadata": {},
   "outputs": [],
   "source": []
  }
 ],
 "metadata": {
  "kernelspec": {
   "display_name": "Python 3",
   "language": "python",
   "name": "python3"
  },
  "language_info": {
   "codemirror_mode": {
    "name": "ipython",
    "version": 3
   },
   "file_extension": ".py",
   "mimetype": "text/x-python",
   "name": "python",
   "nbconvert_exporter": "python",
   "pygments_lexer": "ipython3",
   "version": "3.7.2"
  }
 },
 "nbformat": 4,
 "nbformat_minor": 2
}
